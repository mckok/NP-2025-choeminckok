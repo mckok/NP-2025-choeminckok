{
 "cells": [
  {
   "cell_type": "markdown",
   "id": "9d3fb998",
   "metadata": {},
   "source": [
    "## 앞의Person 클래스에서새로운Person 객체가생성될때ID를1001번지부터순차적으로자동으로부여할수있도록Employee 클래스를포함해서변경하시오."
   ]
  },
  {
   "cell_type": "code",
   "execution_count": 2,
   "id": "2a937e14",
   "metadata": {},
   "outputs": [
    {
     "name": "stdout",
     "output_type": "stream",
     "text": [
      "'김민범'님의 ID: 1001\n",
      "'최민국'님의 ID: 1002\n",
      "'박로사'님의 ID: 1003\n"
     ]
    }
   ],
   "source": [
    "class Person:\n",
    "\n",
    "    id_counter = 1001\n",
    "\n",
    "    def __init__(self, name, age):\n",
    "        self.name = name\n",
    "        self.age = age\n",
    "        \n",
    "        self.__id = Person.id_counter\n",
    "        \n",
    "        Person.id_counter += 1\n",
    "\n",
    "    def getId(self):\n",
    "\n",
    "        return self.__id\n",
    "        \n",
    "    def getAge(self):\n",
    "        return self.age\n",
    "\n",
    "class Employee(Person):\n",
    "    def __init__(self, name, age):\n",
    "        super().__init__(name, age)\n",
    "\n",
    "p1 = Person(\"김민범\", 24)\n",
    "\n",
    "e1 = Employee(\"최민국\", 24)\n",
    "\n",
    "p2 = Person(\"박로사\", 23)\n",
    "\n",
    "print(f\"'{p1.name}'님의 ID: {p1.getId()}\")\n",
    "print(f\"'{e1.name}'님의 ID: {e1.getId()}\")\n",
    "print(f\"'{p2.name}'님의 ID: {p2.getId()}\")"
   ]
  }
 ],
 "metadata": {
  "kernelspec": {
   "display_name": "Python 3",
   "language": "python",
   "name": "python3"
  },
  "language_info": {
   "codemirror_mode": {
    "name": "ipython",
    "version": 3
   },
   "file_extension": ".py",
   "mimetype": "text/x-python",
   "name": "python",
   "nbconvert_exporter": "python",
   "pygments_lexer": "ipython3",
   "version": "3.12.10"
  }
 },
 "nbformat": 4,
 "nbformat_minor": 5
}
