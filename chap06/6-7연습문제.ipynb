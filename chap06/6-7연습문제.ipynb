{
 "cells": [
  {
   "cell_type": "markdown",
   "id": "c5b6a799",
   "metadata": {},
   "source": [
    "## 다음Person 클래스를상속받는Employee 클래스를정의하라."
   ]
  },
  {
   "cell_type": "code",
   "execution_count": 1,
   "id": "4814b3e7",
   "metadata": {},
   "outputs": [
    {
     "name": "stdout",
     "output_type": "stream",
     "text": [
      "이름: 동양, 나이: 65, ID: 2019\n"
     ]
    }
   ],
   "source": [
    "\n",
    "class Person:\n",
    "    def __init__(self, name, age):\n",
    "        self.name = name\n",
    "        self.age = age\n",
    "    \n",
    "    def getName(self):\n",
    "\n",
    "        print(self.name)\n",
    "        \n",
    "    def getAge(self):\n",
    "\n",
    "        print(self.age)\n",
    "\n",
    "class Employee(Person):\n",
    "    def __init__(self, name, age, employeeID):\n",
    "        super().__init__(name, age)\n",
    "        self.employeeID = employeeID\n",
    "\n",
    "    def getID(self):\n",
    "\n",
    "        return self.employeeID\n",
    "\n",
    "\n",
    "emp = Employee(\"동양\", 65, 2019)\n",
    "\n",
    "print(f\"이름: {emp.name}, 나이: {emp.age}, ID: {emp.getID()}\")"
   ]
  }
 ],
 "metadata": {
  "kernelspec": {
   "display_name": "Python 3",
   "language": "python",
   "name": "python3"
  },
  "language_info": {
   "codemirror_mode": {
    "name": "ipython",
    "version": 3
   },
   "file_extension": ".py",
   "mimetype": "text/x-python",
   "name": "python",
   "nbconvert_exporter": "python",
   "pygments_lexer": "ipython3",
   "version": "3.12.10"
  }
 },
 "nbformat": 4,
 "nbformat_minor": 5
}
