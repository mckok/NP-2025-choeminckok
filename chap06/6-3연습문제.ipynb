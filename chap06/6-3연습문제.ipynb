{
 "cells": [
  {
   "cell_type": "markdown",
   "id": "2f42502b",
   "metadata": {},
   "source": [
    "## Moneybox 클래스를작성하라."
   ]
  },
  {
   "cell_type": "code",
   "execution_count": 1,
   "id": "8a9a44bf",
   "metadata": {},
   "outputs": [],
   "source": [
    "class Moneybox:\n",
    "    \n",
    "    def __init__(self):\n",
    "        self.total = 0\n",
    "\n",
    "    def deposit(self, money):\n",
    "        self.total += money\n",
    "        print(f\"입금: {money}원 | 현재 잔액: {self.total}원\")\n",
    "\n",
    "    def extract(self, money):\n",
    "        if self.total >= money:\n",
    "            self.total -= money\n",
    "            print(f\"출금: {money}원 | 현재 잔액: {self.total}원\")\n",
    "        else:\n",
    "            print(\"잔액이 부족하여 출금할 수 없습니다.\")\n",
    "\n",
    "    def get_total(self):\n",
    "        return self.total"
   ]
  },
  {
   "cell_type": "markdown",
   "id": "ab313ad1",
   "metadata": {},
   "source": [
    "## my_money = Moneybox() 객체를 생성하고 1000원을 저축하고, 200원을 인출한다음, 총액을출력하라."
   ]
  },
  {
   "cell_type": "code",
   "execution_count": 2,
   "id": "99eb7038",
   "metadata": {},
   "outputs": [
    {
     "name": "stdout",
     "output_type": "stream",
     "text": [
      "입금: 1000원 | 현재 잔액: 1000원\n",
      "출금: 200원 | 현재 잔액: 800원\n",
      "\n",
      "최종 남은 금액: 800원\n"
     ]
    }
   ],
   "source": [
    "class Moneybox:\n",
    "    \n",
    "    def __init__(self):\n",
    "        self.total = 0\n",
    "\n",
    "    def deposit(self, money):\n",
    "        self.total += money\n",
    "        print(f\"입금: {money}원 | 현재 잔액: {self.total}원\")\n",
    "\n",
    "    def extract(self, money):\n",
    "        if self.total >= money:\n",
    "            self.total -= money\n",
    "            print(f\"출금: {money}원 | 현재 잔액: {self.total}원\")\n",
    "        else:\n",
    "            print(\"잔액이 부족하여 출금할 수 없습니다.\")\n",
    "\n",
    "    def get_total(self):\n",
    "        return self.total\n",
    "\n",
    "\n",
    "my_money = Moneybox()\n",
    "\n",
    "\n",
    "my_money.deposit(1000)\n",
    "\n",
    "\n",
    "my_money.extract(200)\n",
    "\n",
    "\n",
    "final_amount = my_money.get_total()\n",
    "print(f\"\\n최종 남은 금액: {final_amount}원\")"
   ]
  },
  {
   "cell_type": "code",
   "execution_count": null,
   "id": "2724787b",
   "metadata": {},
   "outputs": [],
   "source": []
  }
 ],
 "metadata": {
  "kernelspec": {
   "display_name": "Python 3",
   "language": "python",
   "name": "python3"
  },
  "language_info": {
   "codemirror_mode": {
    "name": "ipython",
    "version": 3
   },
   "file_extension": ".py",
   "mimetype": "text/x-python",
   "name": "python",
   "nbconvert_exporter": "python",
   "pygments_lexer": "ipython3",
   "version": "3.12.10"
  }
 },
 "nbformat": 4,
 "nbformat_minor": 5
}
