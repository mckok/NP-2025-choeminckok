{
 "cells": [
  {
   "cell_type": "markdown",
   "id": "ff97b796",
   "metadata": {},
   "source": [
    "## 1. 파이썬으로 싱글톤 패턴을구현하는방법들"
   ]
  },
  {
   "cell_type": "code",
   "execution_count": null,
   "id": "b789825f",
   "metadata": {},
   "outputs": [],
   "source": []
  },
  {
   "cell_type": "markdown",
   "id": "8a095820",
   "metadata": {},
   "source": [
    "## 2. 파이썬에서 멀티쓰레드구현하는기법"
   ]
  },
  {
   "cell_type": "code",
   "execution_count": null,
   "id": "566333a4",
   "metadata": {},
   "outputs": [],
   "source": []
  },
  {
   "cell_type": "markdown",
   "id": "241a6aae",
   "metadata": {},
   "source": [
    "## 3. 멀티쓰레드에서 공유 변수에대한Critical Section 을 보호하는 기법"
   ]
  },
  {
   "cell_type": "code",
   "execution_count": null,
   "id": "5226cc0d",
   "metadata": {},
   "outputs": [],
   "source": []
  }
 ],
 "metadata": {
  "language_info": {
   "name": "python"
  }
 },
 "nbformat": 4,
 "nbformat_minor": 5
}
