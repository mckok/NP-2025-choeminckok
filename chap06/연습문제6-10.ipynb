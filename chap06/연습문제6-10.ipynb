{
 "cells": [
  {
   "cell_type": "markdown",
   "id": "04e7fa51",
   "metadata": {},
   "source": [
    "## 동물(Animal)을 울음을추상메소드로하는추상클래스로정의"
   ]
  },
  {
   "cell_type": "code",
   "execution_count": 1,
   "id": "166887b2",
   "metadata": {},
   "outputs": [
    {
     "name": "stdout",
     "output_type": "stream",
     "text": [
      "✅ '바둑이'(Dog) 태어남 [총 1 마리]\n",
      "멍멍 🐾\n",
      "✅ '야옹이'(Cat) 태어남 [총 2 마리]\n",
      "야옹 🐈\n",
      "✅ '바둑이2'(Dog) 태어남 [총 3 마리]\n",
      "멍멍 🐾\n",
      "✅ '야옹이2'(Cat) 태어남 [총 4 마리]\n",
      "야옹 🐈\n",
      "✅ '바둑이a'(Dog) 태어남 [총 5 마리]\n",
      "✅ '나비b'(Cat) 태어남 [총 6 마리]\n",
      "✅ '멍멍이c'(Dog) 태어남 [총 7 마리]\n",
      "✅ '야옹이d'(Cat) 태어남 [총 8 마리]\n",
      "단일 테스트 -> 멍멍이c: 멍멍 🐾\n",
      "\n",
      "--- 리스트의 모든 동물이 웁니다 ---\n",
      "바둑이a: 멍멍 🐾\n",
      "나비b: 야옹 🐈\n",
      "멍멍이c: 멍멍 🐾\n",
      "야옹이d: 야옹 🐈\n",
      "--------------------------------\n",
      "총 동물의 수 (삭제 전): 8\n",
      "\n",
      "--- dog, cat 객체를 삭제합니다 ---\n",
      "❌ '바둑이'(Dog) 떠남 [총 7 마리]\n",
      "❌ '야옹이'(Cat) 떠남 [총 6 마리]\n",
      "총 동물의 수 (삭제 후): 6\n",
      "\n",
      "--- 프로그램 종료 ---\n"
     ]
    }
   ],
   "source": [
    "from abc import ABC, abstractmethod\n",
    "\n",
    "class Animal(ABC):\n",
    "    animal_count = 0\n",
    "\n",
    "    def __init__(self, name):\n",
    "        self.name = name\n",
    "        Animal.animal_count += 1\n",
    "        print(f\"✅ '{self.name}'({type(self).__name__}) 태어남 [총 {Animal.animal_count} 마리]\")\n",
    "\n",
    "    def __del__(self):\n",
    "        Animal.animal_count -= 1\n",
    "        print(f\"❌ '{self.name}'({type(self).__name__}) 떠남 [총 {Animal.animal_count} 마리]\")\n",
    "\n",
    "    @staticmethod\n",
    "    def get_animal_count():\n",
    "        return Animal.animal_count\n",
    "\n",
    "    @abstractmethod\n",
    "    def sound(self):\n",
    "        pass\n",
    "\n",
    "class Dog(Animal):\n",
    "    def sound(self):\n",
    "        return \"멍멍 🐾\"\n",
    "\n",
    "class Cat(Animal):\n",
    "    def sound(self):\n",
    "        return \"야옹 🐈\"\n",
    "\n",
    "\n",
    "def animal_sound(animal: Animal):\n",
    "    \"\"\"단일 동물 객체의 소리를 출력하는 함수\"\"\"\n",
    "    print(f\"단일 테스트 -> {animal.name}: {animal.sound()}\")\n",
    "\n",
    "def animal_sounds(animals: list[Animal]):\n",
    "    \"\"\"동물 리스트 전체의 소리를 출력하는 함수\"\"\"\n",
    "    print(\"\\n--- 리스트의 모든 동물이 웁니다 ---\")\n",
    "    for animal in animals:\n",
    "        print(f\"{animal.name}: {animal.sound()}\")\n",
    "    print(\"--------------------------------\")\n",
    "\n",
    "\n",
    "if __name__ == \"__main__\":\n",
    "\n",
    "    dog: Dog = Dog(\"바둑이\")\n",
    "    print(dog.sound())\n",
    "    \n",
    "    cat: Cat = Cat(\"야옹이\")\n",
    "    print(cat.sound())\n",
    "    \n",
    "\n",
    "    any_animal_1: Animal = Dog(\"바둑이2\")\n",
    "    print(any_animal_1.sound())\n",
    "    \n",
    "    any_animal_2: Animal = Cat(\"야옹이2\")\n",
    "    print(any_animal_2.sound())\n",
    "    \n",
    "\n",
    "    alist: list[Animal] = [Dog(\"바둑이a\"), Cat(\"나비b\"), Dog(\"멍멍이c\"), Cat(\"야옹이d\")]\n",
    "    \n",
    "    animal_sound(alist[2]) \n",
    "    animal_sounds(alist)   #\n",
    "    \n",
    "    print(f\"총 동물의 수 (삭제 전): {Animal.get_animal_count()}\")\n",
    "    \n",
    "   \n",
    "    print(\"\\n--- dog, cat 객체를 삭제합니다 ---\")\n",
    "    del dog\n",
    "    del cat\n",
    "    print(f\"총 동물의 수 (삭제 후): {Animal.get_animal_count()}\")\n",
    "    \n",
    "    print(\"\\n--- 프로그램 종료 ---\")"
   ]
  },
  {
   "cell_type": "code",
   "execution_count": 2,
   "id": "e9999d01",
   "metadata": {},
   "outputs": [
    {
     "ename": "SyntaxError",
     "evalue": "illegal target for annotation (1002344403.py, line 1)",
     "output_type": "error",
     "traceback": [
      "  \u001b[36mCell\u001b[39m\u001b[36m \u001b[39m\u001b[32mIn[2]\u001b[39m\u001b[32m, line 1\u001b[39m\n\u001b[31m    \u001b[39m\u001b[31mif__name__ ==\"__main__\": dog :\u001b[39m\n    ^\n\u001b[31mSyntaxError\u001b[39m\u001b[31m:\u001b[39m illegal target for annotation\n"
     ]
    }
   ],
   "source": [
    "if__name__ ==\"__main__\": dog : \n",
    "Dog =Dog(\"바둑이\") \n",
    "print(dog.sound()) # Output: 멍멍\n",
    "cat =Cat(\"야옹이\") \n",
    "print(cat.sound()) # Output: 야옹\n",
    "any : Animal =Dog(\"바둑이2\") \n",
    "print(any.sound()) # Output: 멍멍\n",
    "any : Animal =Cat(\"야옹이2\") \n",
    "print(any.sound()) # Output: 야옹\n",
    "alist : list[Animal] = [Dog(\"바둑이a\"), Cat(\"나비b\"), Dog(\"멍멍이c\"), Cat(\"야옹이d\")] \n",
    "print(alist) \n",
    "animal_sound(alist[2]) a\n",
    "nimal_sounds(alist) \n",
    "print(f\"총동물의수: {Animal.get_animal_count()}\") # 8 \n",
    "# 올바른객체삭제방법\n",
    "del dog # del 키워드사용\n",
    "del cat # del 키워드사용\n",
    "print(f\"총동물의수: {Animal.get_animal_count()}\") # 6"
   ]
  }
 ],
 "metadata": {
  "kernelspec": {
   "display_name": "Python 3",
   "language": "python",
   "name": "python3"
  },
  "language_info": {
   "codemirror_mode": {
    "name": "ipython",
    "version": 3
   },
   "file_extension": ".py",
   "mimetype": "text/x-python",
   "name": "python",
   "nbconvert_exporter": "python",
   "pygments_lexer": "ipython3",
   "version": "3.12.10"
  }
 },
 "nbformat": 4,
 "nbformat_minor": 5
}
