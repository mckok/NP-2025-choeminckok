{
 "cells": [
  {
   "cell_type": "markdown",
   "id": "66d9c984",
   "metadata": {},
   "source": [
    "## 2025-09-23 2021114954 최민국"
   ]
  },
  {
   "cell_type": "markdown",
   "id": "c3a8b0d8",
   "metadata": {},
   "source": [
    "## 클래스 정의"
   ]
  },
  {
   "cell_type": "code",
   "execution_count": 3,
   "id": "1412efbb",
   "metadata": {},
   "outputs": [],
   "source": [
    "class Car :    \n",
    "    def __init__(self, color, speed): \n",
    "        self.color = color         \n",
    "        self.speed = speed    \n",
    "    def speedUp(self, v): \n",
    "        self.speed = self.speed + v        \n",
    "        return self.speed    \n",
    "    def speedDown(self, v):        \n",
    "        self.speed = self.speed - v \n",
    "        return self.speed"
   ]
  },
  {
   "cell_type": "markdown",
   "id": "053619c3",
   "metadata": {},
   "source": [
    "## 클래스 초기화 함수"
   ]
  },
  {
   "cell_type": "code",
   "execution_count": 4,
   "id": "6b85f56a",
   "metadata": {},
   "outputs": [],
   "source": [
    "class Car : \n",
    "    def __init__(self, color, speed): \n",
    "        self.color = color \n",
    "        self.speed = speed "
   ]
  },
  {
   "cell_type": "markdown",
   "id": "79bfbc14",
   "metadata": {},
   "source": [
    "## 클래스 객체를 이용한 프로그램"
   ]
  },
  {
   "cell_type": "code",
   "execution_count": 6,
   "id": "3777f410",
   "metadata": {},
   "outputs": [
    {
     "name": "stdout",
     "output_type": "stream",
     "text": [
      "색상:  Black 속도:  60\n",
      "색상:  Red\n"
     ]
    },
    {
     "ename": "AttributeError",
     "evalue": "'Car' object has no attribute 'speedup'",
     "output_type": "error",
     "traceback": [
      "\u001b[31m---------------------------------------------------------------------------\u001b[39m",
      "\u001b[31mAttributeError\u001b[39m                            Traceback (most recent call last)",
      "\u001b[36mCell\u001b[39m\u001b[36m \u001b[39m\u001b[32mIn[6]\u001b[39m\u001b[32m, line 5\u001b[39m\n\u001b[32m      3\u001b[39m mycar.color = \u001b[33m\"\u001b[39m\u001b[33mRed\u001b[39m\u001b[33m\"\u001b[39m \n\u001b[32m      4\u001b[39m \u001b[38;5;28mprint\u001b[39m(\u001b[33m'\u001b[39m\u001b[33m색상: \u001b[39m\u001b[33m'\u001b[39m, mycar.color) \n\u001b[32m----> \u001b[39m\u001b[32m5\u001b[39m \u001b[43mmycar\u001b[49m\u001b[43m.\u001b[49m\u001b[43mspeedup\u001b[49m(\u001b[32m10\u001b[39m) \n\u001b[32m      6\u001b[39m \u001b[38;5;28mprint\u001b[39m(\u001b[33m'\u001b[39m\u001b[33m속도: \u001b[39m\u001b[33m'\u001b[39m, mycar.speed) \n\u001b[32m      7\u001b[39m mycar.speeddown(\u001b[32m20\u001b[39m) \n",
      "\u001b[31mAttributeError\u001b[39m: 'Car' object has no attribute 'speedup'"
     ]
    }
   ],
   "source": [
    "mycar = Car('Black', 60) \n",
    "print('색상: ', mycar.color, '속도: ', mycar.speed) \n",
    "mycar.color = \"Red\" \n",
    "print('색상: ', mycar.color) \n",
    "mycar.speedup(10) \n",
    "print('속도: ', mycar.speed) \n",
    "mycar.speeddown(20) \n",
    "print('속도: ', mycar.speed)"
   ]
  },
  {
   "cell_type": "markdown",
   "id": "13259dc7",
   "metadata": {},
   "source": [
    "## 클래스 속성"
   ]
  },
  {
   "cell_type": "code",
   "execution_count": 7,
   "id": "15df0c54",
   "metadata": {},
   "outputs": [],
   "source": [
    "class Calc: \n",
    "    count = 0 \n",
    "    def add(self, a=0, b=0): \n",
    "        self.a = a \n",
    "        self.b = b \n",
    "        self.count += 1 \n",
    "        return self.a + self.b \n",
    "    def minus(self, a,b): \n",
    "        if a == 0 or b== 0: \n",
    "            return a - b, self.count \n",
    "        else: \n",
    "            return a-b \n",
    "        obj = Calc() \n",
    "        print(obj.minus(3,0)) \n",
    "        print(obj.minus(3,1)) \n",
    "        print(obj.add(1, 2)) \n",
    "        print(obj.count, Calc.count) "
   ]
  },
  {
   "cell_type": "markdown",
   "id": "5a6b7e96",
   "metadata": {},
   "source": [
    "## 클래스 상속 예제"
   ]
  },
  {
   "cell_type": "code",
   "execution_count": 8,
   "id": "fbcf6b29",
   "metadata": {},
   "outputs": [],
   "source": [
    "class People :    \n",
    "    def __init__(self, age=0, name=None):        \n",
    "        self.__age = age        \n",
    "        self.__name = name    \n",
    "    def introMe(self):        \n",
    "        print(\"Name :\", self.__name, \"age :\", str(self.__age)) \n",
    "class Teacher(People) :    \n",
    "    def __init__(self, age=0, name=None, school=None) :        \n",
    "        super().__init__(age, name)           \n",
    "        self.school = school      \n",
    "    def showSchool(self):        \n",
    "        print(\"My School is \", self.school)"
   ]
  },
  {
   "cell_type": "markdown",
   "id": "10be7d99",
   "metadata": {},
   "source": [
    "## 가시성 예제"
   ]
  },
  {
   "cell_type": "code",
   "execution_count": 9,
   "id": "cb6da89b",
   "metadata": {},
   "outputs": [],
   "source": [
    "class Base:  \n",
    "    def __init__(self):    \n",
    "        self.public_value = 1         \n",
    "        self._protected_value = 2       \n",
    "        self.__private_value = 3     \n",
    "class Child(Base):  \n",
    "    def show(self):    \n",
    "        print(self.public_value)    #가능\n",
    "        print(self._protected_value)  #가능\n",
    "        # print(self.__private_value) # 불가(AttributeError) \n",
    "class Other:  \n",
    "    def show(self, obj: Base):    \n",
    "        print(obj.public_value)    # 가능\n",
    "        print(obj._protected_value)  # 가능(하지만권장되지않음) \n",
    "        # print(obj.__private_value)  # 불가(AttributeError)  "
   ]
  },
  {
   "cell_type": "markdown",
   "id": "7aee60db",
   "metadata": {},
   "source": [
    "## 추상함수 예제"
   ]
  },
  {
   "cell_type": "code",
   "execution_count": 10,
   "id": "af332029",
   "metadata": {},
   "outputs": [
    {
     "ename": "NameError",
     "evalue": "name 'Dog' is not defined",
     "output_type": "error",
     "traceback": [
      "\u001b[31m---------------------------------------------------------------------------\u001b[39m",
      "\u001b[31mNameError\u001b[39m                                 Traceback (most recent call last)",
      "\u001b[36mCell\u001b[39m\u001b[36m \u001b[39m\u001b[32mIn[10]\u001b[39m\u001b[32m, line 6\u001b[39m\n\u001b[32m      3\u001b[39m     \u001b[38;5;129m@abstractmethod\u001b[39m  \n\u001b[32m      4\u001b[39m     \u001b[38;5;28;01mdef\u001b[39;00m\u001b[38;5;250m \u001b[39m\u001b[34msound\u001b[39m(\u001b[38;5;28mself\u001b[39m):    \n\u001b[32m      5\u001b[39m         \u001b[38;5;28;01mpass\u001b[39;00m \n\u001b[32m----> \u001b[39m\u001b[32m6\u001b[39m \u001b[38;5;28;43;01mclass\u001b[39;49;00m\u001b[38;5;250;43m \u001b[39;49m\u001b[34;43;01mDog\u001b[39;49;00m\u001b[43m(\u001b[49m\u001b[43mAnimal\u001b[49m\u001b[43m)\u001b[49m\u001b[43m:\u001b[49m\u001b[43m  \u001b[49m\n\u001b[32m      7\u001b[39m \u001b[43m    \u001b[49m\u001b[38;5;28;43;01mdef\u001b[39;49;00m\u001b[38;5;250;43m \u001b[39;49m\u001b[34;43msound\u001b[39;49m\u001b[43m(\u001b[49m\u001b[38;5;28;43mself\u001b[39;49m\u001b[43m)\u001b[49m\u001b[43m:\u001b[49m\u001b[43m    \u001b[49m\n\u001b[32m      8\u001b[39m \u001b[43m        \u001b[49m\u001b[38;5;28;43;01mreturn\u001b[39;49;00m\u001b[43m \u001b[49m\u001b[33;43m\"\u001b[39;49m\u001b[33;43m멍멍\u001b[39;49m\u001b[33;43m\"\u001b[39;49m\u001b[43m \u001b[49m\n",
      "\u001b[36mCell\u001b[39m\u001b[36m \u001b[39m\u001b[32mIn[10]\u001b[39m\u001b[32m, line 10\u001b[39m, in \u001b[36mDog\u001b[39m\u001b[34m()\u001b[39m\n\u001b[32m      8\u001b[39m     \u001b[38;5;28;01mreturn\u001b[39;00m \u001b[33m\"\u001b[39m\u001b[33m멍멍\u001b[39m\u001b[33m\"\u001b[39m \n\u001b[32m      9\u001b[39m \u001b[38;5;66;03m# a = Animal() # 에러: 추상클래스는인스턴스화불가\u001b[39;00m\n\u001b[32m---> \u001b[39m\u001b[32m10\u001b[39m d = \u001b[43mDog\u001b[49m() \n\u001b[32m     11\u001b[39m \u001b[38;5;28mprint\u001b[39m(d.sound())\n",
      "\u001b[31mNameError\u001b[39m: name 'Dog' is not defined"
     ]
    }
   ],
   "source": [
    "from abc import ABC, abstractmethod \n",
    "class Animal(ABC): \n",
    "    @abstractmethod  \n",
    "    def sound(self):    \n",
    "        pass \n",
    "class Dog(Animal):  \n",
    "    def sound(self):    \n",
    "        return \"멍멍\" \n",
    "    # a = Animal() # 에러: 추상클래스는인스턴스화불가\n",
    "    d = Dog() \n",
    "    print(d.sound()) # \"멍멍\""
   ]
  },
  {
   "cell_type": "markdown",
   "id": "51a47bd0",
   "metadata": {},
   "source": [
    "## 정적 멤버 예제"
   ]
  },
  {
   "cell_type": "code",
   "execution_count": 12,
   "id": "a89bf82c",
   "metadata": {},
   "outputs": [
    {
     "name": "stdout",
     "output_type": "stream",
     "text": [
      "1\n"
     ]
    },
    {
     "ename": "AttributeError",
     "evalue": "'Counter' object has no attribute 'object_counter'",
     "output_type": "error",
     "traceback": [
      "\u001b[31m---------------------------------------------------------------------------\u001b[39m",
      "\u001b[31mAttributeError\u001b[39m                            Traceback (most recent call last)",
      "\u001b[36mCell\u001b[39m\u001b[36m \u001b[39m\u001b[32mIn[12]\u001b[39m\u001b[32m, line 15\u001b[39m\n\u001b[32m     12\u001b[39m \u001b[38;5;28mprint\u001b[39m(Counter.count)   \u001b[38;5;66;03m# 1 \u001b[39;00m\n\u001b[32m     14\u001b[39m c = Counter()       \u001b[38;5;66;03m# 인스턴스생성\u001b[39;00m\n\u001b[32m---> \u001b[39m\u001b[32m15\u001b[39m \u001b[38;5;28mprint\u001b[39m(\u001b[43mc\u001b[49m\u001b[43m.\u001b[49m\u001b[43mobject_counter\u001b[49m)  \u001b[38;5;66;03m# 1 \u001b[39;00m\n\u001b[32m     16\u001b[39m c.increment_object() \n\u001b[32m     17\u001b[39m \u001b[38;5;28mprint\u001b[39m(c.__object_counter)  \u001b[38;5;66;03m# private 접근불가\u001b[39;00m\n",
      "\u001b[31mAttributeError\u001b[39m: 'Counter' object has no attribute 'object_counter'"
     ]
    }
   ],
   "source": [
    "class Counter:  \n",
    "    count = 0 # 클래스변수(정적멤버) \n",
    "    def __init__(self):    \n",
    "        self.__object_counter = 1  # public  \n",
    "    @staticmethod  \n",
    "    def increment_class():    \n",
    "        Counter.count += 1  \n",
    "    def increment_object(self):    \n",
    "        self.__object_counter += 1  # private \n",
    "if __name__ == \"__main__\": \n",
    "    Counter.increment_class() \n",
    "    print(Counter.count)   # 1 \n",
    "    \n",
    "    c = Counter()       # 인스턴스생성\n",
    "    print(c.object_counter)  # 1 \n",
    "    c.increment_object() \n",
    "    print(c.__object_counter)  # private 접근불가"
   ]
  },
  {
   "cell_type": "markdown",
   "id": "b6f2e3ea",
   "metadata": {},
   "source": [
    "## 파이썬 데코레이터"
   ]
  },
  {
   "cell_type": "code",
   "execution_count": 13,
   "id": "163b0862",
   "metadata": {},
   "outputs": [
    {
     "name": "stdout",
     "output_type": "stream",
     "text": [
      "=== 예제1: 기본데코레이터===\n",
      "함수실행전\n",
      "Hello, World!\n",
      "함수실행후\n"
     ]
    }
   ],
   "source": [
    "def simple_decorator(func):  \n",
    "    def wrapper():    \n",
    "        print(\"함수실행전\")    \n",
    "        result = func()    \n",
    "        print(\"함수실행후\")    \n",
    "        return result  \n",
    "    return wrapper \n",
    "@simple_decorator \n",
    "def say_hello():  \n",
    "    print(\"Hello, World!\") \n",
    "if __name__ == \"__main__\":  \n",
    "    print(\"=== 예제1: 기본데코레이터===\")  \n",
    "    say_hello() # 함수실행전# Hello, World! # 함수실행후"
   ]
  },
  {
   "cell_type": "markdown",
   "id": "6bc2be32",
   "metadata": {},
   "source": [
    "## 파이썬 데코레이터 2"
   ]
  },
  {
   "cell_type": "code",
   "execution_count": 18,
   "id": "efc2f23f",
   "metadata": {},
   "outputs": [
    {
     "ename": "NameError",
     "evalue": "name 'original_say_hello' is not defined",
     "output_type": "error",
     "traceback": [
      "\u001b[31m---------------------------------------------------------------------------\u001b[39m",
      "\u001b[31mNameError\u001b[39m                                 Traceback (most recent call last)",
      "\u001b[36mCell\u001b[39m\u001b[36m \u001b[39m\u001b[32mIn[18]\u001b[39m\u001b[32m, line 12\u001b[39m\n\u001b[32m      9\u001b[39m     \u001b[38;5;28;01mreturn\u001b[39;00m wrapper\n\u001b[32m     11\u001b[39m original_hello = say_hello     \u001b[38;5;66;03m# 원본 백업\u001b[39;00m\n\u001b[32m---> \u001b[39m\u001b[32m12\u001b[39m say_hello = simple_decorator(\u001b[43moriginal_say_hello\u001b[49m)   \u001b[38;5;66;03m# 1. 함수재할당\u001b[39;00m\n\u001b[32m     13\u001b[39m decorated_say_hello = simple_decorator(original_say_hello) \u001b[38;5;66;03m# 2. 다른함수명이름\u001b[39;00m\n\u001b[32m     15\u001b[39m \u001b[38;5;28;01mif\u001b[39;00m \u001b[34m__name__\u001b[39m == \u001b[33m\"\u001b[39m\u001b[33m__main__\u001b[39m\u001b[33m\"\u001b[39m:    \n",
      "\u001b[31mNameError\u001b[39m: name 'original_say_hello' is not defined"
     ]
    }
   ],
   "source": [
    "def say_hello():  \n",
    "    print(\"Hello, World!\") \n",
    "def simple_decorator(func):  \n",
    "    def wrapper():    \n",
    "        print(\"함수실행전\")    \n",
    "        result = func()    \n",
    "        print(\"함수실행후\")    \n",
    "        return result  \n",
    "    return wrapper\n",
    " \n",
    "original_hello = say_hello     # 원본 백업\n",
    "say_hello = simple_decorator(original_say_hello)   # 1. 함수재할당\n",
    "decorated_say_hello = simple_decorator(original_say_hello) # 2. 다른함수명이름\n",
    "\n",
    "if __name__ == \"__main__\":    \n",
    "    say_hello()    \n",
    "    decorated_say_hello()"
   ]
  },
  {
   "cell_type": "code",
   "execution_count": null,
   "id": "0e7e65d1",
   "metadata": {},
   "outputs": [],
   "source": []
  }
 ],
 "metadata": {
  "kernelspec": {
   "display_name": "Python 3",
   "language": "python",
   "name": "python3"
  },
  "language_info": {
   "codemirror_mode": {
    "name": "ipython",
    "version": 3
   },
   "file_extension": ".py",
   "mimetype": "text/x-python",
   "name": "python",
   "nbconvert_exporter": "python",
   "pygments_lexer": "ipython3",
   "version": "3.12.10"
  }
 },
 "nbformat": 4,
 "nbformat_minor": 5
}
