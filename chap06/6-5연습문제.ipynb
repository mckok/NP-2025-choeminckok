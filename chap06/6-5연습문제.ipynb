{
 "cells": [
  {
   "cell_type": "markdown",
   "id": "0c058b56",
   "metadata": {},
   "source": [
    "## Articles 클래스를 작성하라."
   ]
  },
  {
   "cell_type": "code",
   "execution_count": 1,
   "id": "471aca41",
   "metadata": {},
   "outputs": [
    {
     "name": "stdout",
     "output_type": "stream",
     "text": [
      "제품 '텀블러'이(가) 등록되었습니다. (재고: 100, 가격: 15000원)\n",
      "\n",
      "--- 가격 조회 ---\n",
      "5개 구매 시 총 가격: 75000원\n",
      "20개 구매 시 5% 할인이 적용됩니다.\n",
      "20개 구매 시 총 가격: 285000원\n",
      "60개 구매 시 10% 할인이 적용됩니다.\n",
      "60개 구매 시 총 가격: 810000원\n",
      "\n",
      "구매 완료: '텀블러' 20개를 구매했습니다.\n",
      "남은 재고: 80개\n",
      "\n",
      "재고 부족: '텀블러'의 재고(80개)가 부족하여 구매할 수 없습니다.\n",
      "\n",
      "구매 완료: '텀블러' 50개를 구매했습니다.\n",
      "남은 재고: 30개\n"
     ]
    }
   ],
   "source": [
    "class Articles:\n",
    "    \n",
    "    def __init__(self, name, stock, price):\n",
    "\n",
    "        self.name = name\n",
    "        self.stock = stock\n",
    "        self.price = price\n",
    "        print(f\"제품 '{self.name}'이(가) 등록되었습니다. (재고: {self.stock}, 가격: {self.price}원)\")\n",
    "\n",
    "    def offer_price(self, quantity):\n",
    "\n",
    "        total_price = self.price * quantity\n",
    "        \n",
    "        if quantity >= 51:\n",
    "\n",
    "            discount_price = total_price * 0.9\n",
    "            print(f\"{quantity}개 구매 시 10% 할인이 적용됩니다.\")\n",
    "        elif quantity >= 11:\n",
    "\n",
    "            discount_price = total_price * 0.95\n",
    "            print(f\"{quantity}개 구매 시 5% 할인이 적용됩니다.\")\n",
    "        else:\n",
    "\n",
    "            discount_price = total_price\n",
    "            \n",
    "\n",
    "        return int(discount_price)\n",
    "\n",
    "    def purchase(self, quantity):\n",
    "\n",
    "        if self.stock >= quantity:\n",
    "            self.stock -= quantity\n",
    "            print(f\"\\n구매 완료: '{self.name}' {quantity}개를 구매했습니다.\")\n",
    "            print(f\"남은 재고: {self.stock}개\")\n",
    "        else:\n",
    "            print(f\"\\n재고 부족: '{self.name}'의 재고({self.stock}개)가 부족하여 구매할 수 없습니다.\")\n",
    "\n",
    "tumbler = Articles(name=\"텀블러\", stock=100, price=15000)\n",
    "\n",
    "\n",
    "print(\"\\n--- 가격 조회 ---\")\n",
    "price_for_5 = tumbler.offer_price(5)\n",
    "print(f\"5개 구매 시 총 가격: {price_for_5}원\")\n",
    "\n",
    "price_for_20 = tumbler.offer_price(20)\n",
    "print(f\"20개 구매 시 총 가격: {price_for_20}원\")\n",
    "\n",
    "price_for_60 = tumbler.offer_price(60)\n",
    "print(f\"60개 구매 시 총 가격: {price_for_60}원\")\n",
    "\n",
    "tumbler.purchase(20)\n",
    "\n",
    "\n",
    "tumbler.purchase(90)\n",
    "\n",
    "tumbler.purchase(50)"
   ]
  },
  {
   "cell_type": "markdown",
   "id": "46a80875",
   "metadata": {},
   "source": [
    "## 이클래스를이용하여단가1000원인”mask“를10,000장으로설정하고, 40장구매가격과구매후재고를출력하라."
   ]
  },
  {
   "cell_type": "code",
   "execution_count": 2,
   "id": "6d97a2e2",
   "metadata": {},
   "outputs": [
    {
     "name": "stdout",
     "output_type": "stream",
     "text": [
      "제품 'mask'이(가) 등록되었습니다. (재고: 10000, 가격: 1000원)\n",
      "40개 구매 시 5% 할인이 적용됩니다.\n",
      "\n",
      "--- 가격 조회 ---\n",
      "40장 구매 시 총 가격: 38000원\n",
      "\n",
      "구매 완료: 'mask' 40개를 구매했습니다.\n",
      "남은 재고: 9960개\n"
     ]
    }
   ],
   "source": [
    "\n",
    "class Articles:\n",
    "    \"\"\"\n",
    "    제품의 이름, 재고, 가격을 관리하는 클래스입니다.\n",
    "    구매 수량에 따른 가격 할인과 재고 관리 기능을 제공합니다.\n",
    "    \"\"\"\n",
    "    def __init__(self, name, stock, price):\n",
    "        self.name = name\n",
    "        self.stock = stock\n",
    "        self.price = price\n",
    "        print(f\"제품 '{self.name}'이(가) 등록되었습니다. (재고: {self.stock}, 가격: {self.price}원)\")\n",
    "\n",
    "    def offer_price(self, quantity):\n",
    "        total_price = self.price * quantity\n",
    "        \n",
    "        if quantity >= 51:\n",
    "            discount_price = total_price * 0.9\n",
    "            print(f\"{quantity}개 구매 시 10% 할인이 적용됩니다.\")\n",
    "        elif quantity >= 11:\n",
    "            discount_price = total_price * 0.95\n",
    "            print(f\"{quantity}개 구매 시 5% 할인이 적용됩니다.\")\n",
    "        else:\n",
    "            discount_price = total_price\n",
    "            \n",
    "        return int(discount_price)\n",
    "\n",
    "    def purchase(self, quantity):\n",
    "        if self.stock >= quantity:\n",
    "            self.stock -= quantity\n",
    "            print(f\"\\n구매 완료: '{self.name}' {quantity}개를 구매했습니다.\")\n",
    "            print(f\"남은 재고: {self.stock}개\")\n",
    "        else:\n",
    "            print(f\"\\n재고 부족: '{self.name}'의 재고({self.stock}개)가 부족하여 구매할 수 없습니다.\")\n",
    "\n",
    "\n",
    "mask = Articles(name=\"mask\", stock=10000, price=1000)\n",
    "\n",
    "\n",
    "purchase_price = mask.offer_price(40)\n",
    "print(f\"\\n--- 가격 조회 ---\")\n",
    "print(f\"40장 구매 시 총 가격: {purchase_price}원\")\n",
    "\n",
    "\n",
    "mask.purchase(40)"
   ]
  },
  {
   "cell_type": "code",
   "execution_count": null,
   "id": "5e4218b8",
   "metadata": {},
   "outputs": [],
   "source": []
  }
 ],
 "metadata": {
  "kernelspec": {
   "display_name": "Python 3",
   "language": "python",
   "name": "python3"
  },
  "language_info": {
   "codemirror_mode": {
    "name": "ipython",
    "version": 3
   },
   "file_extension": ".py",
   "mimetype": "text/x-python",
   "name": "python",
   "nbconvert_exporter": "python",
   "pygments_lexer": "ipython3",
   "version": "3.12.10"
  }
 },
 "nbformat": 4,
 "nbformat_minor": 5
}
