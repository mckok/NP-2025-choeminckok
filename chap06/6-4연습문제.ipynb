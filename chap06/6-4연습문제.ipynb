{
 "cells": [
  {
   "cell_type": "markdown",
   "id": "212cf955",
   "metadata": {},
   "source": [
    "## Password_manager 클래스를 작성하라."
   ]
  },
  {
   "cell_type": "code",
   "execution_count": 1,
   "id": "bf9edcb5",
   "metadata": {},
   "outputs": [
    {
     "name": "stdout",
     "output_type": "stream",
     "text": [
      "현재 비밀번호: my_first_pw\n",
      "비밀번호가 성공적으로 변경되었습니다.\n",
      "변경된 비밀번호: my_second_pw\n",
      "오류: 과거에 사용했던 비밀번호입니다. 다른 비밀번호를 설정해주세요.\n",
      "\n",
      "--- 비밀번호 확인 ---\n",
      "'wrong_password'가 현재 비밀번호와 일치하나요? False\n",
      "'my_second_pw'가 현재 비밀번호와 일치하나요? True\n"
     ]
    }
   ],
   "source": [
    "class Password_manager:\n",
    "    \n",
    "    def __init__(self, initial_password):\n",
    "        self.old_passwords = [initial_password]\n",
    "\n",
    "    def get_password(self):\n",
    "        return self.old_passwords[-1]\n",
    "\n",
    "    def set_password(self, new_password):\n",
    "        if new_password in self.old_passwords:\n",
    "            print(\"오류: 과거에 사용했던 비밀번호입니다. 다른 비밀번호를 설정해주세요.\")\n",
    "            return False\n",
    "        else:\n",
    "            self.old_passwords.append(new_password)\n",
    "            print(\"비밀번호가 성공적으로 변경되었습니다.\")\n",
    "            return True\n",
    "\n",
    "    def is_correct(self, password_to_check):\n",
    "        return password_to_check == self.get_password()\n",
    "\n",
    "pm = Password_manager(\"my_first_pw\")\n",
    "\n",
    "print(f\"현재 비밀번호: {pm.get_password()}\")\n",
    "\n",
    "pm.set_password(\"my_second_pw\")\n",
    "print(f\"변경된 비밀번호: {pm.get_password()}\")\n",
    "\n",
    "pm.set_password(\"my_first_pw\")\n",
    "\n",
    "print(\"\\n--- 비밀번호 확인 ---\")\n",
    "print(f\"'wrong_password'가 현재 비밀번호와 일치하나요? {pm.is_correct('wrong_password')}\")\n",
    "print(f\"'my_second_pw'가 현재 비밀번호와 일치하나요? {pm.is_correct('my_second_pw')}\")"
   ]
  }
 ],
 "metadata": {
  "kernelspec": {
   "display_name": "Python 3",
   "language": "python",
   "name": "python3"
  },
  "language_info": {
   "codemirror_mode": {
    "name": "ipython",
    "version": 3
   },
   "file_extension": ".py",
   "mimetype": "text/x-python",
   "name": "python",
   "nbconvert_exporter": "python",
   "pygments_lexer": "ipython3",
   "version": "3.12.10"
  }
 },
 "nbformat": 4,
 "nbformat_minor": 5
}
