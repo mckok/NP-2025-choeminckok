{
 "cells": [
  {
   "cell_type": "markdown",
   "id": "ce2a0512",
   "metadata": {},
   "source": [
    "## 2025-09-10 2021114954 최민국"
   ]
  },
  {
   "cell_type": "markdown",
   "id": "19276826",
   "metadata": {},
   "source": [
    "## 3명이상친구이름리스트를작성하고다음내용을프로그램하시오"
   ]
  },
  {
   "cell_type": "code",
   "execution_count": null,
   "id": "0c7e458f",
   "metadata": {},
   "outputs": [],
   "source": [
    "\n",
    "friends = [\"김철수\", \"이영희\", \"박지성\"]\n",
    "print(f\"초기 리스트: {friends}\")\n",
    "\n",
    "friends.insert(0, \"신짱구\")\n",
    "print(f\"맨 앞에 '신짱구' 추가: {friends}\")\n",
    "\n",
    "friends.insert(2, \"오맹구\")\n",
    "print(f\"3번째 위치에 '오맹구' 추가: {friends}\")\n",
    "\n",
    "friends.append(\"유리\")\n",
    "print(f\"마지막에 '유리' 추가: {friends}\")"
   ]
  },
  {
   "cell_type": "markdown",
   "id": "1d9bfe8c",
   "metadata": {},
   "source": [
    "## 리스트[1, 2, 3]에 대해 다음과같은처리를하라."
   ]
  },
  {
   "cell_type": "code",
   "execution_count": 1,
   "id": "d77349c4",
   "metadata": {},
   "outputs": [
    {
     "name": "stdout",
     "output_type": "stream",
     "text": [
      "초기 리스트: [1, 2, 3]\n",
      "두 번째 요소를 17로 수정: [1, 17, 3]\n",
      "4, 5, 6 추가: [1, 17, 3, 4, 5, 6]\n",
      "첫 번째 요소 제거: [17, 3, 4, 5, 6]\n",
      "오름차순 정렬: [3, 4, 5, 6, 17]\n",
      "인덱스 3에 25 추가: [3, 4, 5, 25, 6, 17]\n"
     ]
    }
   ],
   "source": [
    "numbers = [1, 2, 3]\n",
    "print(f\"초기 리스트: {numbers}\")\n",
    "\n",
    "numbers[1] = 17\n",
    "print(f\"두 번째 요소를 17로 수정: {numbers}\")\n",
    "\n",
    "numbers.extend([4, 5, 6])\n",
    "print(f\"4, 5, 6 추가: {numbers}\")\n",
    "\n",
    "numbers.pop(0)\n",
    "print(f\"첫 번째 요소 제거: {numbers}\")\n",
    "\n",
    "numbers.sort()\n",
    "print(f\"오름차순 정렬: {numbers}\")\n",
    "\n",
    "numbers.insert(3, 25)\n",
    "print(f\"인덱스 3에 25 추가: {numbers}\")"
   ]
  }
 ],
 "metadata": {
  "kernelspec": {
   "display_name": "Python 3",
   "language": "python",
   "name": "python3"
  },
  "language_info": {
   "codemirror_mode": {
    "name": "ipython",
    "version": 3
   },
   "file_extension": ".py",
   "mimetype": "text/x-python",
   "name": "python",
   "nbconvert_exporter": "python",
   "pygments_lexer": "ipython3",
   "version": "3.12.10"
  }
 },
 "nbformat": 4,
 "nbformat_minor": 5
}
