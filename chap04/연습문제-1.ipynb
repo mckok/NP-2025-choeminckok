{
 "cells": [
  {
   "cell_type": "markdown",
   "id": "4d4acf34",
   "metadata": {},
   "source": [
    "## 2025-09-10 2021114954 최민국"
   ]
  },
  {
   "cell_type": "markdown",
   "id": "fc6b5af0",
   "metadata": {},
   "source": [
    "## 사용자가월을입력하면해당월에일수를출력하라"
   ]
  },
  {
   "cell_type": "code",
   "execution_count": null,
   "id": "1808fced",
   "metadata": {},
   "outputs": [
    {
     "name": "stdout",
     "output_type": "stream",
     "text": [
      "May의 일수는 31일입니다.\n"
     ]
    }
   ],
   "source": [
    "days = {\n",
    "    'January': 31, 'February': 28, 'March': 31, 'April': 30, 'May': 31, \n",
    "    'June': 30, 'July': 31, 'August': 31, 'September': 30, 'October': 31, \n",
    "    'November': 30, 'December': 31\n",
    "}\n",
    "\n",
    "\n",
    "month = input(\"월의 전체 이름을 입력하세요 (예: January): \")\n",
    "day_count = days.get(month)\n",
    "\n",
    "if day_count:\n",
    "    print(f\"{month}의 일수는 {day_count}일입니다.\")\n",
    "else:\n",
    "    print(\"잘못된 월 이름입니다.\")"
   ]
  },
  {
   "cell_type": "markdown",
   "id": "d05335c9",
   "metadata": {},
   "source": [
    "## 알파벳순서로모든월을출력하라"
   ]
  },
  {
   "cell_type": "code",
   "execution_count": 9,
   "id": "ac9be655",
   "metadata": {},
   "outputs": [
    {
     "name": "stdout",
     "output_type": "stream",
     "text": [
      "--- 알파벳 순서로 월 출력 ---\n",
      "April\n",
      "August\n",
      "December\n",
      "February\n",
      "January\n",
      "July\n",
      "June\n",
      "March\n",
      "May\n",
      "November\n",
      "October\n",
      "September\n"
     ]
    }
   ],
   "source": [
    "days = {\n",
    "    'January': 31, 'February': 28, 'March': 31, 'April': 30, 'May': 31, \n",
    "    'June': 30, 'July': 31, 'August': 31, 'September': 30, 'October': 31, \n",
    "    'November': 30, 'December': 31\n",
    "}\n",
    "sorted_months = sorted(days.keys())\n",
    "\n",
    "print(\"--- 알파벳 순서로 월 출력 ---\")\n",
    "for month in sorted_months:\n",
    "    print(month)"
   ]
  },
  {
   "cell_type": "markdown",
   "id": "c297f170",
   "metadata": {},
   "source": [
    "## 일수가31인월을모두출력하라"
   ]
  },
  {
   "cell_type": "code",
   "execution_count": 10,
   "id": "a5bdabcb",
   "metadata": {},
   "outputs": [
    {
     "name": "stdout",
     "output_type": "stream",
     "text": [
      "--- 일수가 31일인 월 ---\n",
      "January\n",
      "March\n",
      "May\n",
      "July\n",
      "August\n",
      "October\n",
      "December\n"
     ]
    }
   ],
   "source": [
    "days = {\n",
    "    'January': 31, 'February': 28, 'March': 31, 'April': 30, 'May': 31, \n",
    "    'June': 30, 'July': 31, 'August': 31, 'September': 30, 'October': 31, \n",
    "    'November': 30, 'December': 31\n",
    "}\n",
    "print(\"--- 일수가 31일인 월 ---\")\n",
    "for month, day_count in days.items():\n",
    "    if day_count == 31:\n",
    "        print(month)"
   ]
  },
  {
   "cell_type": "markdown",
   "id": "024f963f",
   "metadata": {},
   "source": [
    "## 월의일수를기준으로오름차순으로(key-value) 쌍을 출력하라"
   ]
  },
  {
   "cell_type": "code",
   "execution_count": 11,
   "id": "676f8fcc",
   "metadata": {},
   "outputs": [
    {
     "name": "stdout",
     "output_type": "stream",
     "text": [
      "--- 일수 기준 오름차순 정렬 ---\n",
      "February: 28\n",
      "April: 30\n",
      "June: 30\n",
      "September: 30\n",
      "November: 30\n",
      "January: 31\n",
      "March: 31\n",
      "May: 31\n",
      "July: 31\n",
      "August: 31\n",
      "October: 31\n",
      "December: 31\n"
     ]
    }
   ],
   "source": [
    "days = {\n",
    "    'January': 31, 'February': 28, 'March': 31, 'April': 30, 'May': 31, \n",
    "    'June': 30, 'July': 31, 'August': 31, 'September': 30, 'October': 31, \n",
    "    'November': 30, 'December': 31\n",
    "}\n",
    "sorted_by_days = sorted(days.items(), key=lambda item: item[1])\n",
    "\n",
    "print(\"--- 일수 기준 오름차순 정렬 ---\")\n",
    "for month, day_count in sorted_by_days:\n",
    "    print(f\"{month}: {day_count}\")"
   ]
  },
  {
   "cell_type": "markdown",
   "id": "409bfdeb",
   "metadata": {},
   "source": [
    "## 사용자가월을3자리만입력하면월의일수를출력하라.(Jan, Feb 등)"
   ]
  },
  {
   "cell_type": "code",
   "execution_count": 12,
   "id": "bef01862",
   "metadata": {},
   "outputs": [
    {
     "name": "stdout",
     "output_type": "stream",
     "text": [
      "May의 일수는 31일입니다.\n"
     ]
    }
   ],
   "source": [
    "days = {\n",
    "    'January': 31, 'February': 28, 'March': 31, 'April': 30, 'May': 31, \n",
    "    'June': 30, 'July': 31, 'August': 31, 'September': 30, 'October': 31, \n",
    "    'November': 30, 'December': 31\n",
    "}\n",
    "abbr = input(\"월의 3자리 약어를 입력하세요 (예: Jan): \")\n",
    "\n",
    "found = False\n",
    "for month in days.keys():\n",
    "    \n",
    "    if month.startswith(abbr):\n",
    "        print(f\"{month}의 일수는 {days[month]}일입니다.\")\n",
    "        found = True\n",
    "        break \n",
    "\n",
    "if not found:\n",
    "    print(\"해당하는 월이 없습니다.\")"
   ]
  }
 ],
 "metadata": {
  "kernelspec": {
   "display_name": "Python 3",
   "language": "python",
   "name": "python3"
  },
  "language_info": {
   "codemirror_mode": {
    "name": "ipython",
    "version": 3
   },
   "file_extension": ".py",
   "mimetype": "text/x-python",
   "name": "python",
   "nbconvert_exporter": "python",
   "pygments_lexer": "ipython3",
   "version": "3.12.10"
  }
 },
 "nbformat": 4,
 "nbformat_minor": 5
}
