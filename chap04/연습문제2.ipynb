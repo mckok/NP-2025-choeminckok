{
 "cells": [
  {
   "cell_type": "markdown",
   "id": "b96c839e",
   "metadata": {},
   "source": [
    "## 2025-09-10 2021114954 최민국"
   ]
  },
  {
   "cell_type": "markdown",
   "id": "5eb1a1d0",
   "metadata": {},
   "source": [
    "## for 루프를 이용하여다음과같은리스트를생성하라."
   ]
  },
  {
   "cell_type": "code",
   "execution_count": null,
   "id": "c02bec29",
   "metadata": {},
   "outputs": [],
   "source": [
    "list_a = []\n",
    "for i in range(50):\n",
    "    list_a.append(i)\n",
    "\n",
    "list_a_comp = [i for i in range(50)]\n",
    "\n",
    "print(f\"0~49 리스트: {list_a}\")\n"
   ]
  },
  {
   "cell_type": "code",
   "execution_count": null,
   "id": "4180fa17",
   "metadata": {},
   "outputs": [],
   "source": [
    "list_b = []\n",
    "for i in range(1, 51):\n",
    "    list_b.append(i ** 2) \n",
    "\n",
    "list_b_comp = [i ** 2 for i in range(1, 51)]\n",
    "\n",
    "print(f\"1~50 제곱 리스트 (일부): {list_b[:10]}...\") "
   ]
  },
  {
   "cell_type": "markdown",
   "id": "e5654c46",
   "metadata": {},
   "source": [
    "## 크기가같은두개의리스트L, M을생성하고두리스트의각요소합으로구성되는새로운리스트를생성하라. 예를들어L=[1,2,3]이고 M=[4,5,6]이면 [5,7,9]인 리스트 생성"
   ]
  },
  {
   "cell_type": "code",
   "execution_count": null,
   "id": "c3e47403",
   "metadata": {},
   "outputs": [],
   "source": [
    "L = [1, 2, 3]\n",
    "M = [4, 5, 6]\n",
    "sum_list = []\n",
    "\n",
    "for l, m in zip(L, M):\n",
    "    sum_list.append(l + m)\n",
    "\n",
    "\n",
    "print(f\"{L}과 {M}의 요소별 합 리스트: {sum_list}\")"
   ]
  },
  {
   "cell_type": "markdown",
   "id": "c2e27f92",
   "metadata": {},
   "source": [
    "## 사용자로부터5개의숫자를문자열로입력받아각숫자를+로연결한문자열을생성하라. 예를들어2, 5, 11, 33, 55를 입력하면 '2+5+11+33+55'를 생성하라."
   ]
  },
  {
   "cell_type": "code",
   "execution_count": null,
   "id": "0b0e0a32",
   "metadata": {},
   "outputs": [],
   "source": [
    "input_string = input(\"5개의 숫자를 공백으로 구분하여 입력하세요: \")\n",
    "\n",
    "number_list = input_string.split()\n",
    "\n",
    "result_string = \"+\".join(number_list)\n",
    "\n",
    "print(f\"생성된 문자열: '{result_string}'\")"
   ]
  }
 ],
 "metadata": {
  "language_info": {
   "name": "python"
  }
 },
 "nbformat": 4,
 "nbformat_minor": 5
}
