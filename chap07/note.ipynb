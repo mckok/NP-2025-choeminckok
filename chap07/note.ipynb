{
 "cells": [
  {
   "cell_type": "markdown",
   "id": "7b7cf479",
   "metadata": {},
   "source": [
    "## 2025-09-30 2021114954 최민국"
   ]
  },
  {
   "cell_type": "markdown",
   "id": "4fa8e6a6",
   "metadata": {},
   "source": [
    "## 모듈 사용하기\n",
    "\n",
    ">>> import socket\n",
    ">>> socket.gethostname()\n",
    "'DESKTOP-BFOL5GM'\n",
    ">>> dir(socket)\n",
    "['AF_APPLETALK', 'AF_BLUETOOTH', 'AF_DECnet', 'AF_HYPERV', 'AF_INET', 'AF_INET6', 'AF_IPX', 'AF_IRDA', 'AF_LINK', 'AF_SNA', 'AF_UNSPEC', 'AI_ADDRCONFIG', 'AI_ALL', 'AI_CANONNAME', 'AI_NUMERICHOST', 'AI_NUMERICSERV', 'AI_PASSIVE', 'AI_V4MAPPED', 'AddressFamily', 'AddressInfo', 'BDADDR_ANY', 'BDADDR_LOCAL', 'BTPROTO_RFCOMM', 'CAPI', 'EAGAIN', 'EAI_AGAIN', 'EAI_BADFLAGS', 'EAI_FAIL', 'EAI_FAMILY', 'EAI_MEMORY', 'EAI_NODATA', 'EAI_NONAME', 'EAI_SERVICE', 'EAI_SOCKTYPE', 'EBADF', 'EWOULDBLOCK', 'HVSOCKET_ADDRESS_FLAG_PASSTHRU', 'HVSOCKET_CONNECTED_SUSPEND', 'HVSOCKET_CONNECT_TIMEOUT', 'HVSOCKET_CONNECT_TIMEOUT_MAX', 'HV_GUID_BROADCAST', 'HV_GUID_CHILDREN', 'HV_GUID_LOOPBACK', 'HV_GUID_PARENT', 'HV_GUID_WILDCARD', 'HV_GUID_ZERO', 'HV_PROTOCOL_RAW', 'INADDR_ALLHOSTS_GROUP', 'INADDR_ANY', 'INADDR_BROADCAST', 'INADDR_LOOPBACK', 'INADDR_MAX_LOCAL_GROUP', 'INADDR_NONE', 'INADDR_UNSPEC_GROUP', 'IPPORT_RESERVED', 'IPPORT_USERRESERVED', 'IPPROTO_AH', 'IPPROTO_CBT', 'IPPROTO_DSTOPTS', 'IPPROTO_EGP', 'IPPROTO_ESP', 'IPPROTO_FRAGMENT', 'IPPROTO_GGP', 'IPPROTO_HOPOPTS', 'IPPROTO_ICLFXBM', 'IPPROTO_ICMP', 'IPPROTO_ICMPV6', 'IPPROTO_IDP', 'IPPROTO_IGMP', 'IPPROTO_IGP', 'IPPROTO_IP', 'IPPROTO_IPV4', 'IPPROTO_IPV6', 'IPPROTO_L2TP', 'IPPROTO_MAX', 'IPPROTO_ND', 'IPPROTO_NONE', 'IPPROTO_PGM', 'IPPROTO_PIM', 'IPPROTO_PUP', 'IPPROTO_RAW', 'IPPROTO_RDP', 'IPPROTO_ROUTING', 'IPPROTO_SCTP', 'IPPROTO_ST', 'IPPROTO_TCP', 'IPPROTO_UDP', 'IPV6_CHECKSUM', 'IPV6_DONTFRAG', 'IPV6_HOPLIMIT', 'IPV6_HOPOPTS', 'IPV6_JOIN_GROUP', 'IPV6_LEAVE_GROUP', 'IPV6_MULTICAST_HOPS', 'IPV6_MULTICAST_IF', 'IPV6_MULTICAST_LOOP', 'IPV6_PKTINFO', 'IPV6_RECVRTHDR', 'IPV6_RECVTCLASS', 'IPV6_RTHDR', 'IPV6_TCLASS', 'IPV6_UNICAST_HOPS', 'IPV6_V6ONLY', 'IP_ADD_MEMBERSHIP', 'IP_ADD_SOURCE_MEMBERSHIP', 'IP_BLOCK_SOURCE', 'IP_DROP_MEMBERSHIP', 'IP_DROP_SOURCE_MEMBERSHIP', 'IP_HDRINCL', 'IP_MULTICAST_IF', 'IP_MULTICAST_LOOP', 'IP_MULTICAST_TTL', 'IP_OPTIONS', 'IP_PKTINFO', 'IP_RECVDSTADDR', 'IP_RECVTOS', 'IP_TOS', 'IP_TTL', 'IP_UNBLOCK_SOURCE', 'IntEnum', 'IntFlag', 'MSG_BCAST', 'MSG_CTRUNC', 'MSG_DONTROUTE', 'MSG_ERRQUEUE', 'MSG_MCAST', 'MSG_OOB', 'MSG_PEEK', 'MSG_TRUNC', 'MSG_WAITALL', 'MsgFlag', 'NI_DGRAM', 'NI_MAXHOST', 'NI_MAXSERV', 'NI_NAMEREQD', 'NI_NOFQDN', 'NI_NUMERICHOST', 'NI_NUMERICSERV', 'RCVALL_MAX', 'RCVALL_OFF', 'RCVALL_ON', 'RCVALL_SOCKETLEVELONLY', 'SHUT_RD', 'SHUT_RDWR', 'SHUT_WR', 'SIO_KEEPALIVE_VALS', 'SIO_LOOPBACK_FAST_PATH', 'SIO_RCVALL', 'SOCK_DGRAM', 'SOCK_RAW', 'SOCK_RDM', 'SOCK_SEQPACKET', 'SOCK_STREAM', 'SOL_IP', 'SOL_SOCKET', 'SOL_TCP', 'SOL_UDP', 'SOMAXCONN', 'SO_ACCEPTCONN', 'SO_BROADCAST', 'SO_DEBUG', 'SO_DONTROUTE', 'SO_ERROR', 'SO_EXCLUSIVEADDRUSE', 'SO_KEEPALIVE', 'SO_LINGER', 'SO_OOBINLINE', 'SO_RCVBUF', 'SO_RCVLOWAT', 'SO_RCVTIMEO', 'SO_REUSEADDR', 'SO_SNDBUF', 'SO_SNDLOWAT', 'SO_SNDTIMEO', 'SO_TYPE', 'SO_USELOOPBACK', 'SocketIO', 'SocketKind', 'SocketType', 'TCP_FASTOPEN', 'TCP_KEEPCNT', 'TCP_KEEPIDLE', 'TCP_KEEPINTVL', 'TCP_MAXSEG', 'TCP_NODELAY', '_GLOBAL_DEFAULT_TIMEOUT', '_GiveupOnSendfile', '_LOCALHOST', '_LOCALHOST_V6', '__all__', '__builtins__', '__cached__', '__doc__', '__file__', '__loader__', '__name__', '__package__', '__spec__', '_blocking_errnos', '_fallback_socketpair', '_intenum_converter', '_socket', 'close', 'create_connection', 'create_server', 'dup', 'errno', 'error', 'errorTab', 'fromfd', 'fromshare', 'gaierror', 'getaddrinfo', 'getdefaulttimeout', 'getfqdn', 'gethostbyaddr', 'gethostbyname', 'gethostbyname_ex', 'gethostname', 'getnameinfo', 'getprotobyname', 'getservbyname', 'getservbyport', 'has_dualstack_ipv6', 'has_ipv6', 'herror', 'htonl', 'htons', 'if_indextoname', 'if_nameindex', 'if_nametoindex', 'inet_aton', 'inet_ntoa', 'inet_ntop', 'inet_pton', 'io', 'ntohl', 'ntohs', 'os', 'selectors', 'setdefaulttimeout', 'socket', 'socketpair', 'sys', 'timeout']\n",
    ">>> dir(socket.socket)\n",
    "['__class__', '__del__', '__delattr__', '__dir__', '__doc__', '__enter__', '__eq__', '__exit__', '__format__', '__ge__', '__getattribute__', '__getstate__', '__gt__', '__hash__', '__init__', '__init_subclass__', '__le__', '__lt__', '__module__', '__ne__', '__new__', '__reduce__', '__reduce_ex__', '__repr__', '__setattr__', '__sizeof__', '__slots__', '__str__', '__subclasshook__', '__weakref__', '_accept', '_check_sendfile_params', '_closed', '_decref_socketios', '_io_refs', '_real_close', '_sendfile_use_send', '_sendfile_use_sendfile', 'accept', 'bind', 'close', 'connect', 'connect_ex', 'detach', 'dup', 'family', 'fileno', 'get_inheritable', 'getblocking', 'getpeername', 'getsockname', 'getsockopt', 'gettimeout', 'ioctl', 'listen', 'makefile', 'proto', 'recv', 'recv_into', 'recvfrom', 'recvfrom_into', 'send', 'sendall', 'sendfile', 'sendto', 'set_inheritable', 'setblocking', 'setsockopt', 'settimeout', 'share', 'shutdown', 'timeout', 'type']\n",
    ">>>"
   ]
  },
  {
   "cell_type": "markdown",
   "id": "27aed17e",
   "metadata": {},
   "source": [
    "## 불러오기\n",
    "\n",
    ">>> from socket import gethostname\n",
    "\n",
    ">>> gethostname()\n",
    "\n",
    "'DESKTOP-BFOL5GM'\n",
    "\n",
    ">>> from socket import*\n",
    "\n",
    ">>> gethostname()\n",
    "\n",
    "'DESKTOP-BFOL5GM'\n",
    "\n",
    ">>> import socket as so\n",
    "\n",
    ">>> so.gethostname()\n",
    "\n",
    "'DESKTOP-BFOL5GM'"
   ]
  },
  {
   "cell_type": "markdown",
   "id": "3a3283d2",
   "metadata": {},
   "source": [
    "# 모듈 탐색 경로\n",
    "\n",
    ">>> import os, sys\n",
    "\n",
    ">>> os.getcwd()\n",
    "\n",
    "'C:\\\\Users\\\\minckok\\\\NP-2025-choeminckok-2'\n",
    "\n",
    ">>> sys.path\n",
    "\n",
    "['', 'C:\\\\Users\\\\minckok\\\\AppData\\\\Local\\\\Programs\\\\Python\\\\Python312\\\\python312.zip', 'C:\\\\Users\\\\minckok\\\\AppData\\\\Local\\\\Programs\\\\Python\\\\Python312\\\\DLLs', 'C:\\\\Users\\\\minckok\\\\AppData\\\\Local\\\\Programs\\\\Python\\\\Python312\\\\Lib', 'C:\\\\Users\\\\minckok\\\\AppData\\\\Local\\\\Programs\\\\Python\\\\Python312', 'C:\\\\Users\\\\minckok\\\\AppData\\\\Roaming\\\\Python\\\\Python312\\\\site-packages', 'C:\\\\Users\\\\minckok\\\\AppData\\\\Roaming\\\\Python\\\\Python312\\\\site-packages\\\\win32', 'C:\\\\Users\\\\minckok\\\\AppData\\\\Roaming\\\\Python\\\\Python312\\\\site-packages\\\\win32\\\\lib', 'C:\\\\Users\\\\minckok\\\\AppData\\\\Roaming\\\\Python\\\\Python312\\\\site-packages\\\\Pythonwin', 'C:\\\\Users\\\\minckok\\\\AppData\\\\Local\\\\Programs\\\\Python\\\\Python312\\\\Lib\\\\site-packages']\n"
   ]
  },
  {
   "cell_type": "markdown",
   "id": "b2258643",
   "metadata": {},
   "source": [
    "## 유용한 모듈 (sys 모듈)\n",
    "\n",
    ">>> import sys\n",
    "\n",
    ">>> sys.version\n",
    "\n",
    "'3.12.10 (tags/v3.12.10:0cc8128, Apr  8 2025, 12:21:36) [MSC v.1943 64 bit (AMD64)]'\n",
    "\n",
    ">>> sys.prefix\n",
    "\n",
    "'C:\\\\Users\\\\minckok\\\\AppData\\\\Local\\\\Programs\\\\Python\\\\Python312'\n",
    "\n",
    ">>> sys.path\n",
    "\n",
    "['', 'C:\\\\Users\\\\minckok\\\\AppData\\\\Local\\\\Programs\\\\Python\\\\Python312\\\\python312.zip', 'C:\\\\Users\\\\minckok\\\\AppData\\\\Local\\\\Programs\\\\Python\\\\Python312\\\\DLLs', 'C:\\\\Users\\\\minckok\\\\AppData\\\\Local\\\\Programs\\\\Python\\\\Python312\\\\Lib', 'C:\\\\Users\\\\minckok\\\\AppData\\\\Local\\\\Programs\\\\Python\\\\Python312', 'C:\\\\Users\\\\minckok\\\\AppData\\\\Roaming\\\\Python\\\\Python312\\\\site-packages', 'C:\\\\Users\\\\minckok\\\\AppData\\\\Roaming\\\\Python\\\\Python312\\\\site-packages\\\\win32', 'C:\\\\Users\\\\minckok\\\\AppData\\\\Roaming\\\\Python\\\\Python312\\\\site-packages\\\\win32\\\\lib', 'C:\\\\Users\\\\minckok\\\\AppData\\\\Roaming\\\\Python\\\\Python312\\\\site-packages\\\\Pythonwin', 'C:\\\\Users\\\\minckok\\\\AppData\\\\Local\\\\Programs\\\\Python\\\\Python312\\\\Lib\\\\site-packages']\n",
    "\n",
    ">>> sys.stdin.readline()\n",
    "\n",
    "hello\n",
    "\n",
    "'hello\\n'\n",
    "\n",
    ">>> sys.stdout.write('Hello')\n",
    "\n",
    "Hello5\n"
   ]
  },
  {
   "cell_type": "markdown",
   "id": "b185845a",
   "metadata": {},
   "source": [
    "## 유용한 모듈(random number)\n",
    "\n",
    ">>> import random\n",
    "\n",
    ">>> random.randint(1,5)\n",
    "\n",
    "5\n",
    "\n",
    ">>> random.random()\n",
    "\n",
    "0.07346184880704432\n",
    "\n",
    ">>> random.randrange(1,10,1)\n",
    "\n",
    "2\n",
    "\n",
    ">>> random.choice('hello')\n",
    "\n",
    "'h'"
   ]
  },
  {
   "cell_type": "markdown",
   "id": "958423c2",
   "metadata": {},
   "source": [
    "## 유용한 모듈(math 모듈)\n",
    "\n",
    ">>> import math\n",
    "\n",
    ">>> dir(math)\n",
    "\n",
    "['__doc__', '__loader__', '__name__', '__package__', '__spec__', 'acos', 'acosh', 'asin', 'asinh', 'atan', 'atan2', 'atanh', 'cbrt', 'ceil', 'comb', 'copysign', 'cos', 'cosh', 'degrees', 'dist', 'e', 'erf', 'erfc', 'exp', 'exp2', 'expm1', 'fabs', 'factorial', 'floor', 'fmod', 'frexp', 'fsum', 'gamma', 'gcd', 'hypot', 'inf', 'isclose', 'isfinite', 'isinf', 'isnan', 'isqrt', 'lcm', 'ldexp', 'lgamma', 'log', 'log10', 'log1p', 'log2', 'modf', 'nan', 'nextafter', 'perm', 'pi', 'pow', 'prod', 'radians', 'remainder', 'sin', 'sinh', 'sqrt', 'sumprod', 'tan', 'tanh', 'tau', 'trunc', 'ulp']\n",
    "\n",
    ">>> math.pi\n",
    "\n",
    "3.141592653589793\n",
    "\n",
    ">>> math.sin(math.pi/6)\n",
    "\n",
    "0.49999999999999994\n",
    "\n",
    ">>> math.log10(2)\n",
    "\n",
    "0.3010299956639812"
   ]
  },
  {
   "cell_type": "markdown",
   "id": "549c7d7e",
   "metadata": {},
   "source": [
    "## 유용한 모듈(time모듈)\n",
    "\n",
    ">>> import time\n",
    "\n",
    ">>> time.time()\n",
    "\n",
    "1759289136.7288635\n",
    "\n",
    ">>> time.asctime()\n",
    "\n",
    "'Wed Oct  1 12:25:44 2025'"
   ]
  },
  {
   "cell_type": "markdown",
   "id": "f4dc4553",
   "metadata": {},
   "source": [
    "## 유용한 모듈(calender모듈)\n",
    "\n",
    ">>> import calendar\n",
    "\n",
    ">>> print(calendar.month(2019,2))\n",
    "\n",
    "   February 2019\n",
    "Mo Tu We Th Fr Sa Su\n",
    "             1  2  3\n",
    " 4  5  6  7  8  9 10\n",
    "11 12 13 14 15 16 17\n",
    "18 19 20 21 22 23 24\n",
    "25 26 27 28"
   ]
  },
  {
   "cell_type": "markdown",
   "id": "cc385efc",
   "metadata": {},
   "source": [
    "## 유용한 모듈(enum 모듈)\n",
    "\n"
   ]
  },
  {
   "cell_type": "code",
   "execution_count": 2,
   "id": "bc08d254",
   "metadata": {},
   "outputs": [
    {
     "name": "stdout",
     "output_type": "stream",
     "text": [
      "4.0\n"
     ]
    }
   ],
   "source": [
    "import math\n",
    "print(math.sqrt(16))\n",
    "\n",
    "# from my_package import module1\n",
    "\n",
    "# module.some_function()"
   ]
  },
  {
   "cell_type": "code",
   "execution_count": null,
   "id": "5105ea82",
   "metadata": {},
   "outputs": [],
   "source": [
    "ofile = open(\"./phonebook.txt\", \"w\", encoding=\"utf-8\")"
   ]
  },
  {
   "cell_type": "code",
   "execution_count": 3,
   "id": "337f271d",
   "metadata": {},
   "outputs": [
    {
     "ename": "SyntaxError",
     "evalue": "invalid syntax (1460530189.py, line 4)",
     "output_type": "error",
     "traceback": [
      "  \u001b[36mCell\u001b[39m\u001b[36m \u001b[39m\u001b[32mIn[3]\u001b[39m\u001b[32m, line 4\u001b[39m\n\u001b[31m    \u001b[39m\u001b[31mform mypackage import module1\u001b[39m\n         ^\n\u001b[31mSyntaxError\u001b[39m\u001b[31m:\u001b[39m invalid syntax\n"
     ]
    }
   ],
   "source": [
    "import math\n",
    "print(math.sqrt(16))\n",
    "\n",
    "form mypackage import module1\n",
    "\n",
    "module1.some_function()"
   ]
  },
  {
   "cell_type": "markdown",
   "id": "e34f8d04",
   "metadata": {},
   "source": []
  }
 ],
 "metadata": {
  "kernelspec": {
   "display_name": "Python 3",
   "language": "python",
   "name": "python3"
  },
  "language_info": {
   "codemirror_mode": {
    "name": "ipython",
    "version": 3
   },
   "file_extension": ".py",
   "mimetype": "text/x-python",
   "name": "python",
   "nbconvert_exporter": "python",
   "pygments_lexer": "ipython3",
   "version": "3.12.10"
  }
 },
 "nbformat": 4,
 "nbformat_minor": 5
}
