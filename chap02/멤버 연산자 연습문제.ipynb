{
 "cells": [
  {
   "cell_type": "markdown",
   "id": "d47e1bab",
   "metadata": {},
   "source": [
    "## 2025-09-10 2021114954 최민국"
   ]
  },
  {
   "cell_type": "markdown",
   "id": "3fefe86a",
   "metadata": {},
   "source": [
    "## 1. 숫자7이리스트[1, 2, 3, 4, 5]에 포함되어 있는지 검사하는프로그램을작성하라."
   ]
  },
  {
   "cell_type": "code",
   "execution_count": null,
   "id": "b467b983",
   "metadata": {},
   "outputs": [],
   "source": [
    "my_list = [1, 2, 3, 4, 5]\n",
    "\n",
    "result = 7 in my_list\n",
    "\n",
    "print(f\"숫자 7이 리스트 {my_list}에 포함되어 있는가? {result}\")"
   ]
  },
  {
   "cell_type": "markdown",
   "id": "101def8e",
   "metadata": {},
   "source": [
    "## 2. 문자열\"apple\"이 세트{\"orange\", \"banana\", \"kiwi\"}에 포함되어 있는지 검사하는 프로그램을작성하라."
   ]
  },
  {
   "cell_type": "code",
   "execution_count": null,
   "id": "3d3fe333",
   "metadata": {},
   "outputs": [],
   "source": [
    "\n",
    "my_set = {\"orange\", \"banana\", \"kiwi\"}\n",
    "\n",
    "result = \"apple\" in my_set\n",
    "\n",
    "print(f\"문자열 'apple'이 세트 {my_set}에 포함되어 있는가? {result}\")"
   ]
  },
  {
   "cell_type": "markdown",
   "id": "a5783eea",
   "metadata": {},
   "source": [
    "## 3. 숫자6이딕셔너리{\"a\": 1, \"b\": 2, \"c\": 3, \"d\": 4}의 값들 중 하나인지 검사하는 프로그램을작성하라."
   ]
  },
  {
   "cell_type": "code",
   "execution_count": null,
   "id": "5e6b4beb",
   "metadata": {},
   "outputs": [],
   "source": [
    "my_dict = {\"a\": 1, \"b\": 2, \"c\": 3, \"d\": 4}\n",
    "\n",
    "result = 6 in my_dict.values()\n",
    "\n",
    "print(f\"숫자 6이 딕셔너리 값들 중에 포함되어 있는가? {result}\")"
   ]
  },
  {
   "cell_type": "markdown",
   "id": "4482cb2b",
   "metadata": {},
   "source": [
    "## 4. 문자열\"cat\"이 튜플(\"dog\", \"cat\", \"bird\", \"hamster\")에 포함되어 있는지 검사하는 프로그램을작성하라."
   ]
  },
  {
   "cell_type": "code",
   "execution_count": null,
   "id": "03ceb031",
   "metadata": {},
   "outputs": [],
   "source": [
    "my_tuple = (\"dog\", \"cat\", \"bird\", \"hamster\")\n",
    "\n",
    "result = \"cat\" in my_tuple\n",
    "\n",
    "print(f\"문자열 'cat'이 튜플 {my_tuple}에 포함되어 있는가? {result}\")"
   ]
  },
  {
   "cell_type": "markdown",
   "id": "696a8cae",
   "metadata": {},
   "source": [
    "## 5. 숫자10이세트{2, 4, 6, 8, 10}에 포함되어 있는지 검사하는 프로그램을작성하라."
   ]
  },
  {
   "cell_type": "code",
   "execution_count": null,
   "id": "f3caaa15",
   "metadata": {},
   "outputs": [],
   "source": [
    "\n",
    "my_set_2 = {2, 4, 6, 8, 10}\n",
    "\n",
    "result = 10 in my_set_2\n",
    "\n",
    "print(f\"숫자 10이 세트 {my_set_2}에 포함되어 있는가? {result}\")"
   ]
  }
 ],
 "metadata": {
  "language_info": {
   "name": "python"
  }
 },
 "nbformat": 4,
 "nbformat_minor": 5
}
