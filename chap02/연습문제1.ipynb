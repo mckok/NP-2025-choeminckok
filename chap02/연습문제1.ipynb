{
 "cells": [
  {
   "cell_type": "markdown",
   "id": "77a75a33",
   "metadata": {},
   "source": [
    "## 2025-09-10 2021114954 최민국"
   ]
  },
  {
   "cell_type": "markdown",
   "id": "55c96793",
   "metadata": {},
   "source": [
    "## 1. 키보드에서임의의두실수를입력받아곱한후그결과를출력하는프로그램을작성하고실행하라\n"
   ]
  },
  {
   "cell_type": "code",
   "execution_count": null,
   "id": "7d0ed5f3",
   "metadata": {},
   "outputs": [],
   "source": [
    "\n",
    "num1 = float(input(\"첫 번째 실수를 입력하세요: \"))\n",
    "\n",
    "\n",
    "num2 = float(input(\"두 번째 실수를 입력하세요: \"))\n",
    "\n",
    "\n",
    "result = num1 * num2\n",
    "\n",
    "\n",
    "print(f\"두 실수의 곱은 {result} 입니다.\")"
   ]
  },
  {
   "cell_type": "markdown",
   "id": "af47aabe",
   "metadata": {},
   "source": [
    "## 2. 1마일은1.609km이다. 키보드에서마일(정수)을입력받아km로변환해출력하는프로그램을작성하고실행하라"
   ]
  },
  {
   "cell_type": "code",
   "execution_count": 3,
   "id": "f7f1f5d5",
   "metadata": {},
   "outputs": [
    {
     "name": "stdout",
     "output_type": "stream",
     "text": [
      "1마일은 1.609km 입니다.\n"
     ]
    }
   ],
   "source": [
    "\n",
    "KM_PER_MILE = 1.609\n",
    "\n",
    "\n",
    "miles = int(input(\"마일(정수)을 입력하세요: \"))\n",
    "\n",
    "\n",
    "kilometers = miles * KM_PER_MILE\n",
    "\n",
    "#\n",
    "print(f\"{miles}마일은 {kilometers:.3f}km 입니다.\")"
   ]
  },
  {
   "cell_type": "markdown",
   "id": "285f8de9",
   "metadata": {},
   "source": [
    "## 3. 원의반지름을입력받아원의둘레와원의면적을출력하는프로그램을작성하라"
   ]
  },
  {
   "cell_type": "code",
   "execution_count": 4,
   "id": "7a61f85e",
   "metadata": {},
   "outputs": [
    {
     "name": "stdout",
     "output_type": "stream",
     "text": [
      "반지름 5.0인 원의 둘레는 31.42 입니다.\n",
      "반지름 5.0인 원의 면적은 78.54 입니다.\n"
     ]
    }
   ],
   "source": [
    "\n",
    "import math\n",
    "\n",
    "radius = float(input(\"원의 반지름을 입력하세요: \"))\n",
    "\n",
    "circumference = 2 * math.pi * radius\n",
    "\n",
    "area = math.pi * (radius ** 2)\n",
    "\n",
    "print(f\"반지름 {radius}인 원의 둘레는 {circumference:.2f} 입니다.\")\n",
    "print(f\"반지름 {radius}인 원의 면적은 {area:.2f} 입니다.\")"
   ]
  }
 ],
 "metadata": {
  "kernelspec": {
   "display_name": "Python 3",
   "language": "python",
   "name": "python3"
  },
  "language_info": {
   "codemirror_mode": {
    "name": "ipython",
    "version": 3
   },
   "file_extension": ".py",
   "mimetype": "text/x-python",
   "name": "python",
   "nbconvert_exporter": "python",
   "pygments_lexer": "ipython3",
   "version": "3.12.10"
  }
 },
 "nbformat": 4,
 "nbformat_minor": 5
}
