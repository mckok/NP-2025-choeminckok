{
 "cells": [
  {
   "cell_type": "markdown",
   "id": "ab6ae552",
   "metadata": {},
   "source": [
    "## 2장 코드정리\n",
    "\n",
    "이 파일은 2장 학습하면서 실행한 내용을 정리한 것이다.\n",
    "\n",
    "날짜: 2025.9.9\n",
    "\n",
    "저자: 최민국"
   ]
  },
  {
   "cell_type": "code",
   "execution_count": 8,
   "id": "7c1baad0",
   "metadata": {},
   "outputs": [
    {
     "name": "stdout",
     "output_type": "stream",
     "text": [
      "Hello, world!!!\n"
     ]
    }
   ],
   "source": [
    "print(\"Hello, world!!!\")"
   ]
  },
  {
   "cell_type": "code",
   "execution_count": 10,
   "id": "b3ce547d",
   "metadata": {},
   "outputs": [
    {
     "name": "stdout",
     "output_type": "stream",
     "text": [
      "Hello, world!!!\n"
     ]
    }
   ],
   "source": [
    "print(\"Hello, world!!!\")"
   ]
  },
  {
   "cell_type": "code",
   "execution_count": 1,
   "id": "a1c9fde9",
   "metadata": {},
   "outputs": [
    {
     "name": "stdout",
     "output_type": "stream",
     "text": [
      "Hello, python!\n"
     ]
    }
   ],
   "source": [
    "print(\"Hello, python!\")"
   ]
  },
  {
   "cell_type": "code",
   "execution_count": 2,
   "id": "cc0f9c6e",
   "metadata": {},
   "outputs": [
    {
     "name": "stdout",
     "output_type": "stream",
     "text": [
      "x = 3\n"
     ]
    }
   ],
   "source": [
    "x = 3\n",
    "print(f\"x = {x}\")"
   ]
  },
  {
   "cell_type": "markdown",
   "id": "f640a669",
   "metadata": {},
   "source": [
    ">>> x =3\n",
    ">>> x"
   ]
  },
  {
   "cell_type": "code",
   "execution_count": null,
   "id": "44af58b4",
   "metadata": {},
   "outputs": [
    {
     "data": {
      "text/plain": [
       "3"
      ]
     },
     "execution_count": 3,
     "metadata": {},
     "output_type": "execute_result"
    }
   ],
   "source": [
    "x =3\n",
    "x"
   ]
  }
 ],
 "metadata": {
  "kernelspec": {
   "display_name": "Python 3",
   "language": "python",
   "name": "python3"
  },
  "language_info": {
   "codemirror_mode": {
    "name": "ipython",
    "version": 3
   },
   "file_extension": ".py",
   "mimetype": "text/x-python",
   "name": "python",
   "nbconvert_exporter": "python",
   "pygments_lexer": "ipython3",
   "version": "3.12.10"
  }
 },
 "nbformat": 4,
 "nbformat_minor": 5
}
