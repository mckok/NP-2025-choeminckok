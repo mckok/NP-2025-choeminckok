{
 "cells": [
  {
   "cell_type": "markdown",
   "id": "ab6ae552",
   "metadata": {},
   "source": [
    "## 2장 코드정리\n",
    "\n",
    "이 파일은 2장 학습하면서 실행한 내용을 정리한 것이다.\n",
    "\n",
    "날짜: 2025.9.9\n",
    "\n",
    "저자: 최민국"
   ]
  },
  {
   "cell_type": "code",
   "execution_count": 8,
   "id": "7c1baad0",
   "metadata": {},
   "outputs": [
    {
     "name": "stdout",
     "output_type": "stream",
     "text": [
      "Hello, world!!!\n"
     ]
    }
   ],
   "source": [
    "print(\"Hello, world!!!\")"
   ]
  },
  {
   "cell_type": "code",
   "execution_count": 9,
   "id": "b3ce547d",
   "metadata": {},
   "outputs": [
    {
     "name": "stdout",
     "output_type": "stream",
     "text": [
      "Hello, world!!!\n"
     ]
    }
   ],
   "source": [
    "print(\"Hello, world!!!\")"
   ]
  }
 ],
 "metadata": {
  "language_info": {
   "name": "python"
  }
 },
 "nbformat": 4,
 "nbformat_minor": 5
}
