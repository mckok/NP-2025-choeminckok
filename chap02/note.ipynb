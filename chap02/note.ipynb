{
 "cells": [
  {
   "cell_type": "markdown",
   "id": "28021f34",
   "metadata": {},
   "source": [
    "## 2025-09-10 2021114954 최민국"
   ]
  },
  {
   "cell_type": "markdown",
   "id": "ab6ae552",
   "metadata": {},
   "source": [
    "## 2장 코드정리\n",
    "\n",
    "이 파일은 2장 학습하면서 실행한 내용을 정리한 것이다.\n",
    "\n",
    "날짜: 2025.9.9\n",
    "\n",
    "저자: 최민국"
   ]
  },
  {
   "cell_type": "code",
   "execution_count": 8,
   "id": "7c1baad0",
   "metadata": {},
   "outputs": [
    {
     "name": "stdout",
     "output_type": "stream",
     "text": [
      "Hello, world!!!\n"
     ]
    }
   ],
   "source": [
    "print(\"Hello, world!!!\")"
   ]
  },
  {
   "cell_type": "code",
   "execution_count": 10,
   "id": "b3ce547d",
   "metadata": {},
   "outputs": [
    {
     "name": "stdout",
     "output_type": "stream",
     "text": [
      "Hello, world!!!\n"
     ]
    }
   ],
   "source": [
    "print(\"Hello, world!!!\")"
   ]
  },
  {
   "cell_type": "code",
   "execution_count": 1,
   "id": "a1c9fde9",
   "metadata": {},
   "outputs": [
    {
     "name": "stdout",
     "output_type": "stream",
     "text": [
      "Hello, python!\n"
     ]
    }
   ],
   "source": [
    "print(\"Hello, python!\")"
   ]
  },
  {
   "cell_type": "code",
   "execution_count": 2,
   "id": "cc0f9c6e",
   "metadata": {},
   "outputs": [
    {
     "name": "stdout",
     "output_type": "stream",
     "text": [
      "x = 3\n"
     ]
    }
   ],
   "source": [
    "x = 3\n",
    "print(f\"x = {x}\")"
   ]
  },
  {
   "cell_type": "markdown",
   "id": "f640a669",
   "metadata": {},
   "source": [
    ">>> x =3\n",
    ">>> x"
   ]
  },
  {
   "cell_type": "code",
   "execution_count": null,
   "id": "44af58b4",
   "metadata": {},
   "outputs": [
    {
     "data": {
      "text/plain": [
       "3"
      ]
     },
     "execution_count": 3,
     "metadata": {},
     "output_type": "execute_result"
    }
   ],
   "source": [
    "x =3\n",
    "x"
   ]
  },
  {
   "cell_type": "markdown",
   "id": "c44da3f2",
   "metadata": {},
   "source": [
    "## 기본 입출력 함수\n",
    ">>> print(10+20)\n",
    "\n",
    "30\n",
    "\n",
    ">>> print(\"동양미래대학교\")\n",
    "\n",
    "동양미래대학교\n",
    "\n",
    ">>> print(\"abc\"*3)\n",
    "\n",
    "abcabcabc\n",
    "\n",
    ">>> x=25\n",
    "\n",
    ">>> y=32\n",
    "\n",
    ">>> z=x+y\n",
    "\n",
    ">>> print(x,y)\n",
    "\n",
    "25 32\n",
    "\n",
    ">>> print(x,'+',y,'=',z)\n",
    "\n",
    "25 + 32 = 57"
   ]
  },
  {
   "cell_type": "markdown",
   "id": "96b93eac",
   "metadata": {},
   "source": [
    "## 기본 입출력 함수\n",
    "\n",
    ">>> print(10+20)\n",
    "\n",
    "30\n",
    "\n",
    ">>> print(\"10\"+\"20\")\n",
    "\n",
    "1020\n",
    "\n",
    ">>> print(\"abc \" * 3)\n",
    "\n",
    "abc abc abc \n",
    "\n",
    ">>> n = 10\n",
    "\n",
    ">>> print(\"n=%d\" %n)\n",
    "\n",
    "n=10\n",
    "\n",
    ">>> m = 5.2\n",
    "\n",
    ">>> print(\"m=%.1f, n=%d\" %(m,n))\n",
    "\n",
    "m=5.2, n=10"
   ]
  },
  {
   "cell_type": "markdown",
   "id": "bb144f3f",
   "metadata": {},
   "source": [
    "|"
   ]
  },
  {
   "cell_type": "markdown",
   "id": "46e8aad0",
   "metadata": {},
   "source": [
    "## 기본 입출력 함수\n",
    "\n",
    ">>> n = input('type a number : ')\n",
    "\n",
    "type a number : 3\n",
    "\n",
    ">>> n\n",
    "\n",
    "'3'\n",
    "\n",
    ">>> int(n)\n",
    "\n",
    "3\n",
    "\n",
    ">>> float(n)\n",
    "\n",
    "3.0\n",
    "\n",
    ">>> n = str(3)\n",
    "\n",
    ">>> n\n",
    "\n",
    "'3'"
   ]
  },
  {
   "cell_type": "markdown",
   "id": "5dd23bfa",
   "metadata": {},
   "source": [
    "## 기본 자료형\n",
    ">>> aVar = True\n",
    "\n",
    ">>> bVar = False\n",
    "\n",
    ">>> type(aVar)\n",
    "\n",
    "<class 'bool'>\n",
    "\n",
    ">>> a = 1\n",
    "\n",
    ">>> b = 2\n",
    "\n",
    ">>> c = a > b\n",
    "\n",
    ">>> c\n",
    "\n",
    "False\n",
    "\n",
    ">>> d = a < b\n",
    "\n",
    ">>> d\n",
    "\n",
    "True"
   ]
  },
  {
   "cell_type": "markdown",
   "id": "f801cf3a",
   "metadata": {},
   "source": [
    "## 기본자료형( 정수형)\n",
    ">>> intVar = 5\n",
    "\n",
    ">>> type(intVar)\n",
    "\n",
    "<class 'int'>"
   ]
  },
  {
   "cell_type": "markdown",
   "id": "4dd99762",
   "metadata": {},
   "source": [
    "## 기본 자료형 (실수형)\n",
    ">>> fVar = 1.0\n",
    "\n",
    ">>> type(fVar)\n",
    "\n",
    "<class 'float'>\n",
    "\n",
    ">>> 100_000.000_0001, 0x_FF_FF, 0o7_777, 0b_1010_1010\n",
    "\n",
    "(100000.0000001, 65535, 4095, 170)\n",
    "\n",
    ">>> 0.00_10_27\n",
    "\n",
    "0.001027"
   ]
  },
  {
   "cell_type": "markdown",
   "id": "c6a24222",
   "metadata": {},
   "source": [
    "## 기본 자료형 (문자열)\n",
    ">>> strVar = \"test\"\n",
    "\n",
    ">>> type(strVar)\n",
    "\n",
    "<class 'str'>\n",
    "\n",
    ">>> 'This is a literal string'\n",
    "\n",
    "'This is a literal string'\n",
    "\n",
    ">>> \"I'm a Python fanatic\"\n",
    "\n",
    "\"I'm a Python fanatic\"\n",
    "\n",
    ">>> 'A not very long string \\\n",
    "\n",
    "... that spans two lines'\n",
    "\n",
    "'A not very long string that spans two lines'"
   ]
  },
  {
   "cell_type": "markdown",
   "id": "3406efb0",
   "metadata": {},
   "source": [
    "## 연산자 (관계 연산자)\n",
    ">>> score = 95\n",
    "\n",
    ">>> print(score >=90)\n",
    "True\n",
    "\n",
    ">>> print(score < 80)\n",
    "False\n",
    "\n",
    ">>> print(score==90)\n",
    "False\n",
    "\n",
    ">>> print(score!=80)\n",
    "True"
   ]
  },
  {
   "cell_type": "markdown",
   "id": "228a7631",
   "metadata": {},
   "source": [
    "## 논리 연산자\n",
    ">>> exam=85\n",
    "\n",
    ">>> report=85\n",
    "\n",
    ">>> exam >= 80 and report >= 80  \n",
    "\n",
    "True\n",
    "\n",
    ">>> exam >= 90 or report >= 90\n",
    "\n",
    "False\n",
    "\n",
    ">>> not(exam < 90)\n",
    "\n",
    "False"
   ]
  },
  {
   "cell_type": "markdown",
   "id": "fba7621e",
   "metadata": {},
   "source": [
    "## 연산자의 종류 (멤버 연산자)\n",
    ">>> 'py' in 'python'\n",
    "\n",
    "True\n",
    ">>> 'ty' not in 'python'\n",
    "\n",
    "True"
   ]
  },
  {
   "cell_type": "markdown",
   "id": "990a4794",
   "metadata": {},
   "source": [
    "## 식별 연산자\n",
    ">>> a=2\n",
    "\n",
    ">>> b=2\n",
    "\n",
    ">>> id(a)\n",
    "\n",
    "140718144506328\n",
    "\n",
    ">>> id(b)\n",
    "\n",
    "140718144506328\n",
    "\n",
    ">>> id(a) == id(b)\n",
    "\n",
    "True\n",
    "\n",
    ">>> a is b\n",
    "\n",
    "True\n",
    "\n",
    ">>> a is not b\n",
    "\n",
    "False"
   ]
  },
  {
   "cell_type": "markdown",
   "id": "787b8cbd",
   "metadata": {},
   "source": []
  }
 ],
 "metadata": {
  "kernelspec": {
   "display_name": "Python 3",
   "language": "python",
   "name": "python3"
  },
  "language_info": {
   "codemirror_mode": {
    "name": "ipython",
    "version": 3
   },
   "file_extension": ".py",
   "mimetype": "text/x-python",
   "name": "python",
   "nbconvert_exporter": "python",
   "pygments_lexer": "ipython3",
   "version": "3.12.10"
  }
 },
 "nbformat": 4,
 "nbformat_minor": 5
}
