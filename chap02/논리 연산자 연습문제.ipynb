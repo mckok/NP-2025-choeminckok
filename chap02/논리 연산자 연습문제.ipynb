{
 "cells": [
  {
   "cell_type": "markdown",
   "id": "819e032b",
   "metadata": {},
   "source": [
    "## 2025-09-10 2021114954 최민국"
   ]
  },
  {
   "cell_type": "markdown",
   "id": "87370ca3",
   "metadata": {},
   "source": [
    "## 1. 5가3보다크고7보다작은지검사하는프로그램을작성하라."
   ]
  },
  {
   "cell_type": "code",
   "execution_count": null,
   "id": "3dde449c",
   "metadata": {},
   "outputs": [],
   "source": [
    "result = 3 < 5 < 7\n",
    "\n",
    "print(f\"5는 3보다 크고 7보다 작은가? {result}\")"
   ]
  },
  {
   "cell_type": "markdown",
   "id": "7a5a815a",
   "metadata": {},
   "source": [
    "## 2. 변수x가10 이상이고20 이하인지검사하는프로그램을작성하라.\n"
   ]
  },
  {
   "cell_type": "code",
   "execution_count": null,
   "id": "c8f4633f",
   "metadata": {},
   "outputs": [],
   "source": [
    "x = 15 \n",
    "\n",
    "is_in_range = 10 <= x <= 20\n",
    "\n",
    "print(f\"변수 x({x})는 10 이상이고 20 이하인가? {is_in_range}\")"
   ]
  },
  {
   "cell_type": "markdown",
   "id": "e8dcaf82",
   "metadata": {},
   "source": [
    "## 3. 변수y가5의배수이거나7의배수인지검사하는프로그램을작성하라."
   ]
  },
  {
   "cell_type": "code",
   "execution_count": null,
   "id": "b2ef340a",
   "metadata": {},
   "outputs": [],
   "source": [
    "y = 35 \n",
    "\n",
    "is_multiple = (y % 5 == 0) or (y % 7 == 0)\n",
    "\n",
    "print(f\"변수 y({y})는 5의 배수이거나 7의 배수인가? {is_multiple}\")"
   ]
  },
  {
   "cell_type": "markdown",
   "id": "6884e4e9",
   "metadata": {},
   "source": [
    "## 4. 변수z가양수이면서짝수인지검사하는프로그램을작성하라."
   ]
  },
  {
   "cell_type": "code",
   "execution_count": null,
   "id": "c9265194",
   "metadata": {},
   "outputs": [],
   "source": [
    "z = 10 \n",
    "\n",
    "is_positive_even = (z > 0) and (z % 2 == 0)\n",
    "\n",
    "print(f\"변수 z({z})는 양수이면서 짝수인가? {is_positive_even}\")"
   ]
  },
  {
   "cell_type": "markdown",
   "id": "3f23944e",
   "metadata": {},
   "source": [
    "## 5. 변수a가문자열\"hello\"나문자열\"world\" 중하나인지검사하는프로그램을작성하라."
   ]
  },
  {
   "cell_type": "code",
   "execution_count": null,
   "id": "bf6232e8",
   "metadata": {},
   "outputs": [],
   "source": [
    "a = \"hello\" \n",
    "\n",
    "is_one_of_them = a in [\"hello\", \"world\"]\n",
    "\n",
    "print(f\"변수 a('{a}')는 'hello'나 'world' 중 하나인가? {is_one_of_them}\")"
   ]
  }
 ],
 "metadata": {
  "language_info": {
   "name": "python"
  }
 },
 "nbformat": 4,
 "nbformat_minor": 5
}
