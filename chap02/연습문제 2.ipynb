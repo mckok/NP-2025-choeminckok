{
 "cells": [
  {
   "cell_type": "markdown",
   "id": "0c76ff95",
   "metadata": {},
   "source": [
    "## 2025-09-10 2021114954 최민국"
   ]
  },
  {
   "cell_type": "markdown",
   "id": "b4658fa6",
   "metadata": {},
   "source": [
    "## 1. 초를입력하면분과초로표시하는프로그램. 예를들어, 200초를입력하면3분20초로표현하라"
   ]
  },
  {
   "cell_type": "code",
   "execution_count": null,
   "id": "71061240",
   "metadata": {},
   "outputs": [],
   "source": [
    "total_seconds = int(input(\"초를 입력하세요: \"))\n",
    "\n",
    "minutes = total_seconds // 60\n",
    "\n",
    "seconds = total_seconds % 60\n",
    "\n",
    "print(f\"{minutes}분 {seconds}초\")"
   ]
  },
  {
   "cell_type": "markdown",
   "id": "20deca22",
   "metadata": {},
   "source": [
    "## 2. 분(min)을 입력 하면, 일, 시간, 분으로출력하는프로그램을만들어라. (예: 1550분은1일1시간50분)"
   ]
  },
  {
   "cell_type": "code",
   "execution_count": null,
   "id": "2a439387",
   "metadata": {},
   "outputs": [],
   "source": [
    "total_minutes = int(input(\"분을 입력하세요: \"))\n",
    "\n",
    "minutes_per_day = 24 * 60\n",
    "\n",
    "days = total_minutes // minutes_per_day\n",
    "\n",
    "\n",
    "remaining_minutes = total_minutes % minutes_per_day\n",
    "\n",
    "\n",
    "hours = remaining_minutes // 60\n",
    "\n",
    "\n",
    "minutes = remaining_minutes % 60\n",
    "\n",
    "print(f\"{days}일 {hours}시간 {minutes}분\")"
   ]
  },
  {
   "cell_type": "markdown",
   "id": "4e68360b",
   "metadata": {},
   "source": [
    "## 3. 500만원을년이율5%로복리저금했을때5년후의원리금의합계를출력하는프로그램"
   ]
  },
  {
   "cell_type": "code",
   "execution_count": null,
   "id": "d28d615e",
   "metadata": {},
   "outputs": [],
   "source": [
    "\n",
    "principal = 5000000  \n",
    "rate = 0.05        \n",
    "time = 5           \n",
    "\n",
    "future_value = principal * (1 + rate) ** time\n",
    "\n",
    "print(f\"5년 후 원리금 합계: {int(future_value):,}원\")"
   ]
  },
  {
   "cell_type": "markdown",
   "id": "6ced5c7e",
   "metadata": {},
   "source": [
    "## 4. 1부터n까지의합은n(n+1)/2로 주어진다. 1부터100까지의합을구하여출력하는프로그램을작성하고실행하라."
   ]
  },
  {
   "cell_type": "code",
   "execution_count": null,
   "id": "f3c6a3d7",
   "metadata": {},
   "outputs": [],
   "source": [
    "n = 100\n",
    "\n",
    "\n",
    "total_sum = n * (n + 1) // 2\n",
    "\n",
    "print(f\"1부터 {n}까지의 합: {total_sum}\")"
   ]
  },
  {
   "cell_type": "markdown",
   "id": "2b5c048a",
   "metadata": {},
   "source": [
    "## 5. 판매자가딸기와포도를판매하고있다. 포도한알의무게는75g이고딸기한알의무게는113.5g이다. 사용자로부터 포도알의개수와딸기의개수를입력받아총무게를계산하여출력하는프로그램을작성하고실행하라."
   ]
  },
  {
   "cell_type": "code",
   "execution_count": null,
   "id": "f6e4d26d",
   "metadata": {},
   "outputs": [],
   "source": [
    "GRAPE_WEIGHT = 75\n",
    "STRAWBERRY_WEIGHT = 113.5\n",
    "\n",
    "num_grapes = int(input(\"포도알의 개수를 입력하세요: \"))\n",
    "num_strawberries = int(input(\"딸기의 개수를 입력하세요: \"))\n",
    "\n",
    "total_weight = (num_grapes * GRAPE_WEIGHT) + (num_strawberries * STRAWBERRY_WEIGHT)\n",
    "\n",
    "print(f\"총 무게는 {total_weight}g 입니다.\")"
   ]
  }
 ],
 "metadata": {
  "language_info": {
   "name": "python"
  }
 },
 "nbformat": 4,
 "nbformat_minor": 5
}
