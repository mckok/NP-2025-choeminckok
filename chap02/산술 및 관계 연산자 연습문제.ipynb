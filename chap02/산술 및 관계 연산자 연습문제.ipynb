{
 "cells": [
  {
   "cell_type": "markdown",
   "id": "5be73d0b",
   "metadata": {},
   "source": [
    "## 2025-09-10 2021114954 최민국"
   ]
  },
  {
   "cell_type": "markdown",
   "id": "9fa704b7",
   "metadata": {},
   "source": [
    "# 1. 5와3을더한값을출력하는프로그램을작성하라."
   ]
  },
  {
   "cell_type": "code",
   "execution_count": 1,
   "id": "0da976a6",
   "metadata": {},
   "outputs": [
    {
     "name": "stdout",
     "output_type": "stream",
     "text": [
      "8\n"
     ]
    }
   ],
   "source": [
    "\n",
    "print(5 + 3)"
   ]
  },
  {
   "cell_type": "markdown",
   "id": "de58ab4f",
   "metadata": {},
   "source": [
    "## 2. 7에서3을뺀값을출력하는프로그램을작성하라."
   ]
  },
  {
   "cell_type": "code",
   "execution_count": null,
   "id": "2b9b6467",
   "metadata": {},
   "outputs": [],
   "source": [
    "\n",
    "print(7 - 3)"
   ]
  },
  {
   "cell_type": "markdown",
   "id": "6b26f2d8",
   "metadata": {},
   "source": [
    "## 3. 4를2로나눈값을출력하는프로그램을작성하라."
   ]
  },
  {
   "cell_type": "code",
   "execution_count": null,
   "id": "1b4bbc67",
   "metadata": {},
   "outputs": [],
   "source": [
    "print(4 / 2)"
   ]
  },
  {
   "cell_type": "markdown",
   "id": "98bbb85c",
   "metadata": {},
   "source": [
    "## 4. 8을3으로나눈몫과나머지를출력하는프로그램을작성하라.\n"
   ]
  },
  {
   "cell_type": "code",
   "execution_count": null,
   "id": "6233a3ae",
   "metadata": {},
   "outputs": [],
   "source": [
    "print(f\"몫: {8 // 3}\")\n",
    "print(f\"나머지: {8 % 3}\")"
   ]
  },
  {
   "cell_type": "markdown",
   "id": "4c8e9096",
   "metadata": {},
   "source": [
    "## 5. 2의5제곱을출력하는프로그램을작성하라.\n"
   ]
  },
  {
   "cell_type": "code",
   "execution_count": null,
   "id": "332c5028",
   "metadata": {},
   "outputs": [],
   "source": [
    "print(2 ** 5)"
   ]
  },
  {
   "cell_type": "markdown",
   "id": "d1757748",
   "metadata": {},
   "source": [
    "## 6. 입력된정수가10보다크고20보다작은지검사하는프로그램을작성하라.\n"
   ]
  },
  {
   "cell_type": "code",
   "execution_count": null,
   "id": "604c6364",
   "metadata": {},
   "outputs": [],
   "source": [
    "num = int(input(\"정수를 입력하세요: \"))\n",
    "\n",
    "is_in_range = 10 < num < 20\n",
    "\n",
    "print(f\"입력된 수({num})는 10보다 크고 20보다 작은가? {is_in_range}\")"
   ]
  },
  {
   "cell_type": "markdown",
   "id": "1d7ece2f",
   "metadata": {},
   "source": [
    "## 7. 문자열\"hello\"와 문자열\"world\"를 이어붙인결과를출력하는프로그램을작성하라.\n"
   ]
  },
  {
   "cell_type": "code",
   "execution_count": null,
   "id": "4bde681c",
   "metadata": {},
   "outputs": [],
   "source": [
    "print(\"hello\" + \" \" + \"world\")"
   ]
  },
  {
   "cell_type": "markdown",
   "id": "8ff477f0",
   "metadata": {},
   "source": [
    "## 8. 7을2로나눈결과가3보다작은지검사하는프로그램을작성하라."
   ]
  },
  {
   "cell_type": "code",
   "execution_count": null,
   "id": "03ec4535",
   "metadata": {},
   "outputs": [],
   "source": [
    "result = (7 / 2) < 3\n",
    "print(f\"7/2의 결과(3.5)는 3보다 작은가? {result}\")"
   ]
  },
  {
   "cell_type": "markdown",
   "id": "211a6729",
   "metadata": {},
   "source": [
    "## 9. 변수x의값이5와같지않은지검사하는프로그램을작성하라."
   ]
  },
  {
   "cell_type": "code",
   "execution_count": null,
   "id": "c6e86139",
   "metadata": {},
   "outputs": [],
   "source": [
    "x = 10 \n",
    "result = x != 5\n",
    "print(f\"변수 x의 값({x})는 5와 같지 않은가? {result}\")\n",
    "\n",
    "x = 5 \n",
    "result = x != 5\n",
    "print(f\"변수 x의 값({x})는 5와 같지 않은가? {result}\")"
   ]
  },
  {
   "cell_type": "markdown",
   "id": "02ffe095",
   "metadata": {},
   "source": [
    "## 10.변수 y의 값이10에서20 사이의값인지검사하는프로그램을작성하라"
   ]
  },
  {
   "cell_type": "code",
   "execution_count": null,
   "id": "8ca1740e",
   "metadata": {},
   "outputs": [],
   "source": [
    "y = 15 \n",
    "is_between = 10 <= y <= 20\n",
    "print(f\"변수 y의 값({y})는 10에서 20 사이인가? {is_between}\")\n",
    "\n",
    "y = 25 \n",
    "is_between = 10 <= y <= 20\n",
    "print(f\"변수 y의 값({y})는 10에서 20 사이인가? {is_between}\")"
   ]
  }
 ],
 "metadata": {
  "kernelspec": {
   "display_name": "Python 3",
   "language": "python",
   "name": "python3"
  },
  "language_info": {
   "codemirror_mode": {
    "name": "ipython",
    "version": 3
   },
   "file_extension": ".py",
   "mimetype": "text/x-python",
   "name": "python",
   "nbconvert_exporter": "python",
   "pygments_lexer": "ipython3",
   "version": "3.12.10"
  }
 },
 "nbformat": 4,
 "nbformat_minor": 5
}
