{
 "cells": [
  {
   "cell_type": "markdown",
   "id": "ec8d1f55",
   "metadata": {},
   "source": [
    "## 2025-09-16 2021114954 최민국"
   ]
  },
  {
   "cell_type": "markdown",
   "id": "16de0874",
   "metadata": {},
   "source": [
    "## 함수의 정의와 호출 예"
   ]
  },
  {
   "cell_type": "code",
   "execution_count": 1,
   "id": "3de2347c",
   "metadata": {},
   "outputs": [],
   "source": [
    "def welcome(name) : \n",
    "    print(\"Hello, \", name) \n",
    "    welcome('John')"
   ]
  },
  {
   "cell_type": "markdown",
   "id": "e89e9b7e",
   "metadata": {},
   "source": [
    "## 반환값이 없는 함수, 값을 반환하는 함수"
   ]
  },
  {
   "cell_type": "code",
   "execution_count": 2,
   "id": "452163df",
   "metadata": {},
   "outputs": [
    {
     "name": "stdout",
     "output_type": "stream",
     "text": [
      "Wecome to Python\n"
     ]
    }
   ],
   "source": [
    "def prtStr(str) : \n",
    "    print(\"%s\" %str) \n",
    "    return \n",
    "str = \"Wecome to Python\" \n",
    "prtStr(str)"
   ]
  },
  {
   "cell_type": "code",
   "execution_count": 3,
   "id": "f5046d14",
   "metadata": {},
   "outputs": [
    {
     "name": "stdout",
     "output_type": "stream",
     "text": [
      "한변의 길이가 5인정사각형의넓이는25\n",
      "한변의 길이가 7인정사각형의넓이는49\n"
     ]
    }
   ],
   "source": [
    "def squareArea(s) : \n",
    "    area = s * s \n",
    "    return area \n",
    "a = squareArea(5) \n",
    "b = squareArea(7) \n",
    "print(\"한변의 길이가 %d인정사각형의넓이는%d\" %(5, a)) \n",
    "print(\"한변의 길이가 %d인정사각형의넓이는%d\" %(7, b))"
   ]
  },
  {
   "cell_type": "markdown",
   "id": "e11ed864",
   "metadata": {},
   "source": [
    "## 1~n까지의합을계산하는함수"
   ]
  },
  {
   "cell_type": "code",
   "execution_count": 5,
   "id": "2430e5c0",
   "metadata": {},
   "outputs": [
    {
     "name": "stdout",
     "output_type": "stream",
     "text": [
      "1275\n",
      "500500\n"
     ]
    }
   ],
   "source": [
    "def sum(n): \n",
    "    hab = 0 \n",
    "    for i in range(1, n+1): \n",
    "        hab = hab + i \n",
    "    return hab  \n",
    "a = sum(50) \n",
    "b = sum(1000) \n",
    "print(a) \n",
    "print(b)"
   ]
  },
  {
   "cell_type": "markdown",
   "id": "1e65ef95",
   "metadata": {},
   "source": [
    "반지름을전달하면원의면적을반환하는cir_area(r) 함수와원의둘레를반환하는cir_cirm(r) 함수를 작성하라. 이들함수를이용하여반지름이3.5cm인원의면적과둘레를소수점아래첫자리까지구하라."
   ]
  },
  {
   "cell_type": "code",
   "execution_count": 6,
   "id": "2f712c95",
   "metadata": {},
   "outputs": [
    {
     "name": "stdout",
     "output_type": "stream",
     "text": [
      "반지름이 3.5cm인 원의 면적: 38.5 cm²\n",
      "반지름이 3.5cm인 원의 둘레: 22.0 cm\n"
     ]
    }
   ],
   "source": [
    "import math \n",
    "\n",
    "\n",
    "def cir_area(r):\n",
    "  \n",
    "  return math.pi * (r ** 2)\n",
    "\n",
    "def cir_cirm(r):\n",
    "  return 2 * math.pi * r\n",
    "\n",
    "radius = 3.5\n",
    "\n",
    "area = cir_area(radius)\n",
    "circumference = cir_cirm(radius)\n",
    "\n",
    "print(f\"반지름이 {radius}cm인 원의 면적: {area:.1f} cm²\")\n",
    "print(f\"반지름이 {radius}cm인 원의 둘레: {circumference:.1f} cm\")"
   ]
  },
  {
   "cell_type": "markdown",
   "id": "36814757",
   "metadata": {},
   "source": [
    "## 지역변수"
   ]
  },
  {
   "cell_type": "code",
   "execution_count": 7,
   "id": "83d8a626",
   "metadata": {},
   "outputs": [
    {
     "name": "stdout",
     "output_type": "stream",
     "text": [
      "func1()의v = 10\n",
      "func2()의v = 20\n"
     ]
    }
   ],
   "source": [
    "def func1() :    \n",
    "    v = 10      \n",
    "    print(\"func1()의v = %d\" % v) \n",
    "def func2() :    \n",
    "    v = 20      \n",
    "    print(\"func2()의v = %d\" % v) \n",
    "func1() \n",
    "func2()"
   ]
  },
  {
   "cell_type": "markdown",
   "id": "f44b4e1e",
   "metadata": {},
   "source": [
    "## 전역 변수의 유효 범위"
   ]
  },
  {
   "cell_type": "code",
   "execution_count": 8,
   "id": "97a1845f",
   "metadata": {},
   "outputs": [
    {
     "name": "stdout",
     "output_type": "stream",
     "text": [
      "func1()의v = 10\n",
      "func2()의v = 20\n"
     ]
    }
   ],
   "source": [
    "def func1() :    \n",
    "    v = 10     \n",
    "    print(\"func1()의v = %d\" % v) \n",
    "def func2() :    \n",
    "    print(\"func2()의v = %d\" % v) \n",
    "v = 20\n",
    "func1() \n",
    "func2()"
   ]
  },
  {
   "cell_type": "markdown",
   "id": "4661be6b",
   "metadata": {},
   "source": [
    "## 전역 변수의 선언"
   ]
  },
  {
   "cell_type": "code",
   "execution_count": 9,
   "id": "db1abc30",
   "metadata": {},
   "outputs": [
    {
     "name": "stdout",
     "output_type": "stream",
     "text": [
      "func1()의v = 10\n",
      "func2()의변경된전역v = 30\n",
      "30\n"
     ]
    }
   ],
   "source": [
    "def func1() :    \n",
    "    v = 10     \n",
    "    print(\"func1()의v = %d\" % v) \n",
    "def func2() :    \n",
    "    global v     \n",
    "    v = 30    \n",
    "    print(\"func2()의변경된전역v = %d\" % v) \n",
    "v = 20 \n",
    "func1() \n",
    "func2() \n",
    "print(v)"
   ]
  },
  {
   "cell_type": "markdown",
   "id": "cf6c98d7",
   "metadata": {},
   "source": [
    "## 매개변수의 기본값 지정"
   ]
  },
  {
   "cell_type": "code",
   "execution_count": 10,
   "id": "731479bb",
   "metadata": {},
   "outputs": [
    {
     "name": "stdout",
     "output_type": "stream",
     "text": [
      "default\n",
      "Hi! Hi! Hi! Hi! Hi! \n"
     ]
    }
   ],
   "source": [
    "def prtMesg(message, count=1): \n",
    "    print (message * count) \n",
    "prtMesg('default') \n",
    "prtMesg('Hi! ', 5)"
   ]
  },
  {
   "cell_type": "code",
   "execution_count": 11,
   "id": "f210a1f9",
   "metadata": {},
   "outputs": [
    {
     "name": "stdout",
     "output_type": "stream",
     "text": [
      "Hi!  Abe, Nothing new?\n",
      "Hi!  Bob, Good morning!\n"
     ]
    }
   ],
   "source": [
    "def greet(name, msg=\"Nothing new?\"):    \n",
    "    print(\"Hi! \", name + ', ' + msg) \n",
    "greet(\"Abe\") \n",
    "    \n",
    "greet(\"Bob\", \"Good morning!\")"
   ]
  },
  {
   "cell_type": "markdown",
   "id": "7b522aba",
   "metadata": {},
   "source": [
    "## 가변매개변수-매개변수의개수가가변일때"
   ]
  },
  {
   "cell_type": "code",
   "execution_count": 12,
   "id": "0d912219",
   "metadata": {},
   "outputs": [
    {
     "name": "stdout",
     "output_type": "stream",
     "text": [
      "6\n",
      "15\n"
     ]
    }
   ],
   "source": [
    "def total(*numbers):    \n",
    "    sum = 0    \n",
    "    for n in numbers: \n",
    "        sum += n    \n",
    "    return sum \n",
    "print (total(1,2,3)) \n",
    "print (total(1,2,3,4,5))"
   ]
  },
  {
   "cell_type": "code",
   "execution_count": 13,
   "id": "fee17a4e",
   "metadata": {},
   "outputs": [
    {
     "name": "stdout",
     "output_type": "stream",
     "text": [
      "Kennedy : 35-th president\n",
      "Obama : 44-th president\n",
      "Trump : 45-th president\n"
     ]
    }
   ],
   "source": [
    "def dicPresident(**keywords):    \n",
    "    for i in keywords.keys(): \n",
    "        print(\"%s : %d-th president\" %(i, keywords[i])) \n",
    "dicPresident(Kennedy=35, Obama=44, Trump=45)"
   ]
  },
  {
   "cell_type": "markdown",
   "id": "dbe9b2f2",
   "metadata": {},
   "source": [
    "## 키워드를이용한매개변수전달"
   ]
  },
  {
   "cell_type": "code",
   "execution_count": 14,
   "id": "047a87ca",
   "metadata": {},
   "outputs": [
    {
     "name": "stdout",
     "output_type": "stream",
     "text": [
      "a= 4 b= 5 c= 3\n",
      "12\n",
      "a= 5 b= 2 c= 7\n",
      "14\n"
     ]
    }
   ],
   "source": [
    "def func(a, b=2, c=3): \n",
    "    print('a=', a, 'b=', b, 'c=', c) \n",
    "    return a + b + c \n",
    "print(func(4, 5)) \n",
    "print(func(5, c=7)) "
   ]
  },
  {
   "cell_type": "markdown",
   "id": "df18f016",
   "metadata": {},
   "source": [
    "## 람다 함수"
   ]
  },
  {
   "cell_type": "code",
   "execution_count": 15,
   "id": "53695fe9",
   "metadata": {},
   "outputs": [
    {
     "name": "stdout",
     "output_type": "stream",
     "text": [
      "정수의 합 :  30\n",
      "정수의 합 :  40\n"
     ]
    }
   ],
   "source": [
    "sum = lambda x, y: x+y \n",
    "print( \"정수의 합 : \", sum( 10, 20 )) \n",
    "print( \"정수의 합 : \", sum( 20, 20 )) "
   ]
  },
  {
   "cell_type": "markdown",
   "id": "2c4a45d2",
   "metadata": {},
   "source": []
  },
  {
   "cell_type": "markdown",
   "id": "5bf7a92c",
   "metadata": {},
   "source": [
    "## 재귀 함수"
   ]
  },
  {
   "cell_type": "code",
   "execution_count": 16,
   "id": "d79d7e25",
   "metadata": {},
   "outputs": [
    {
     "name": "stdout",
     "output_type": "stream",
     "text": [
      "120\n"
     ]
    }
   ],
   "source": [
    "def fact(n): \n",
    "    if n==1:  \n",
    "        return 1 \n",
    "    else: \n",
    "        return n*fact(n-1)  \n",
    "print(fact(5))"
   ]
  },
  {
   "cell_type": "markdown",
   "id": "2af53e06",
   "metadata": {},
   "source": [
    "## 내장 함수"
   ]
  },
  {
   "cell_type": "markdown",
   "id": "c87cd692",
   "metadata": {},
   "source": [
    ">>> eval('1+2*3')\n",
    "\n",
    "7\n",
    "\n",
    ">>> int('123')\n",
    "\n",
    "123\n",
    "\n",
    ">>> int('1010',2)\n",
    "\n",
    "10\n",
    "\n",
    ">>> list(filter(lambda x: len(x)>2, ['this', 'is', 'a', \n",
    "'test']))\n",
    "\n",
    "['this', 'test']"
   ]
  },
  {
   "cell_type": "markdown",
   "id": "8a2800f9",
   "metadata": {},
   "source": []
  }
 ],
 "metadata": {
  "kernelspec": {
   "display_name": "Python 3",
   "language": "python",
   "name": "python3"
  },
  "language_info": {
   "codemirror_mode": {
    "name": "ipython",
    "version": 3
   },
   "file_extension": ".py",
   "mimetype": "text/x-python",
   "name": "python",
   "nbconvert_exporter": "python",
   "pygments_lexer": "ipython3",
   "version": "3.12.10"
  }
 },
 "nbformat": 4,
 "nbformat_minor": 5
}
