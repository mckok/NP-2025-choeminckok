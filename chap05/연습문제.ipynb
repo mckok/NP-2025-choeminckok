{
 "cells": [
  {
   "cell_type": "markdown",
   "id": "745f9094",
   "metadata": {},
   "source": [
    "## 1. 두개의매개변수n, m을전달받아m x n개의* 상자를출력하는프로그램을함수로작성예: 2, 4 → **** ****"
   ]
  },
  {
   "cell_type": "code",
   "execution_count": 11,
   "id": "f9e1bf3e",
   "metadata": {},
   "outputs": [
    {
     "name": "stdout",
     "output_type": "stream",
     "text": [
      "****\n",
      "****\n"
     ]
    }
   ],
   "source": [
    "def print_star_box(n, m):\n",
    "  for _ in range(n):\n",
    "    print('*' * m)\n",
    "\n",
    "\n",
    "print_star_box(2, 4)"
   ]
  },
  {
   "cell_type": "markdown",
   "id": "40a49db5",
   "metadata": {},
   "source": [
    "## 2. 하나의숫자를전달받아숫자의자리합을구하는함수를작성예: 123 → 1+2+3 = 6"
   ]
  },
  {
   "cell_type": "code",
   "execution_count": 12,
   "id": "c52bf81d",
   "metadata": {},
   "outputs": [
    {
     "name": "stdout",
     "output_type": "stream",
     "text": [
      "6\n"
     ]
    }
   ],
   "source": [
    "def sum_digits(number):\n",
    "  total = 0\n",
    "  for digit in str(number):\n",
    "    total += int(digit)\n",
    "  return total\n",
    "\n",
    "\n",
    "result = sum_digits(123)\n",
    "print(result)"
   ]
  },
  {
   "cell_type": "markdown",
   "id": "da8246fb",
   "metadata": {},
   "source": [
    "## 3. 두개의문자열이서로다른처음위치를반환하는함수를작성. 두개의문자열이같으면-1을반환"
   ]
  },
  {
   "cell_type": "code",
   "execution_count": 13,
   "id": "59c9a1be",
   "metadata": {},
   "outputs": [
    {
     "name": "stdout",
     "output_type": "stream",
     "text": [
      "4\n"
     ]
    }
   ],
   "source": [
    "def find_diff_index(str1, str2):\n",
    "  if str1 == str2:\n",
    "    return -1\n",
    "  \n",
    "  min_len = min(len(str1), len(str2))\n",
    "  for i in range(min_len):\n",
    "    if str1[i] != str2[i]:\n",
    "      return i\n",
    "      \n",
    "  return min_len\n",
    "\n",
    "\n",
    "index = find_diff_index(\"apple\", \"apply\")\n",
    "print(index)"
   ]
  },
  {
   "cell_type": "markdown",
   "id": "ce0af97c",
   "metadata": {},
   "source": [
    "## 4. 숫자를전달받아그수의약수를리스트로반환하는함수를작성"
   ]
  },
  {
   "cell_type": "code",
   "execution_count": 14,
   "id": "fb6394c3",
   "metadata": {},
   "outputs": [
    {
     "name": "stdout",
     "output_type": "stream",
     "text": [
      "[1, 2, 3, 4, 6, 12]\n"
     ]
    }
   ],
   "source": [
    "def get_divisors(number):\n",
    "  divisors = []\n",
    "  for i in range(1, number + 1):\n",
    "    if number % i == 0:\n",
    "      divisors.append(i)\n",
    "  return divisors\n",
    "\n",
    "\n",
    "divs = get_divisors(12)\n",
    "print(divs)"
   ]
  },
  {
   "cell_type": "markdown",
   "id": "bbdfdfb5",
   "metadata": {},
   "source": [
    "## 5. 문자열과하나의문자를전달받아문자열에서문자의위치를모두찾아리스트로반환하는함수를작성"
   ]
  },
  {
   "cell_type": "code",
   "execution_count": 15,
   "id": "6d5a86ec",
   "metadata": {},
   "outputs": [
    {
     "name": "stdout",
     "output_type": "stream",
     "text": [
      "[2, 3, 9]\n"
     ]
    }
   ],
   "source": [
    "def find_all_indices(text, char):\n",
    "  indices = []\n",
    "  for i, c in enumerate(text):\n",
    "    if c == char:\n",
    "      indices.append(i)\n",
    "  return indices\n",
    "\n",
    "\n",
    "positions = find_all_indices(\"hello world\", \"l\")\n",
    "print(positions)"
   ]
  },
  {
   "cell_type": "markdown",
   "id": "12141c74",
   "metadata": {},
   "source": [
    "## 6. 재귀함수를이용하여1부터100까지의합을계산하는프로그램"
   ]
  },
  {
   "cell_type": "code",
   "execution_count": 16,
   "id": "f26d0aa2",
   "metadata": {},
   "outputs": [
    {
     "name": "stdout",
     "output_type": "stream",
     "text": [
      "5050\n"
     ]
    }
   ],
   "source": [
    "def sum_recursive(n):\n",
    "  if n <= 1:\n",
    "    return n\n",
    "  else:\n",
    "    return n + sum_recursive(n - 1)\n",
    "\n",
    "\n",
    "total_sum = sum_recursive(100)\n",
    "print(total_sum)"
   ]
  },
  {
   "cell_type": "markdown",
   "id": "893f9341",
   "metadata": {},
   "source": []
  }
 ],
 "metadata": {
  "kernelspec": {
   "display_name": "Python 3",
   "language": "python",
   "name": "python3"
  },
  "language_info": {
   "codemirror_mode": {
    "name": "ipython",
    "version": 3
   },
   "file_extension": ".py",
   "mimetype": "text/x-python",
   "name": "python",
   "nbconvert_exporter": "python",
   "pygments_lexer": "ipython3",
   "version": "3.12.10"
  }
 },
 "nbformat": 4,
 "nbformat_minor": 5
}
