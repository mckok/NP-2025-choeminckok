{
 "cells": [
  {
   "cell_type": "markdown",
   "id": "08c14cfc",
   "metadata": {},
   "source": [
    "## 2025-09-16 2021114954 최민국"
   ]
  },
  {
   "cell_type": "code",
   "execution_count": 2,
   "id": "72113297",
   "metadata": {},
   "outputs": [
    {
     "name": "stdout",
     "output_type": "stream",
     "text": [
      "2진수= 1011\n"
     ]
    }
   ],
   "source": [
    "n = int(input('Number: ')) \n",
    "result = '' \n",
    "while n != 0: \n",
    "    m = n % 2 \n",
    "    result = str(m) + result\n",
    "    n = n // 2 \n",
    "print(\"2진수=\", result)"
   ]
  }
 ],
 "metadata": {
  "kernelspec": {
   "display_name": "Python 3",
   "language": "python",
   "name": "python3"
  },
  "language_info": {
   "codemirror_mode": {
    "name": "ipython",
    "version": 3
   },
   "file_extension": ".py",
   "mimetype": "text/x-python",
   "name": "python",
   "nbconvert_exporter": "python",
   "pygments_lexer": "ipython3",
   "version": "3.12.10"
  }
 },
 "nbformat": 4,
 "nbformat_minor": 5
}
