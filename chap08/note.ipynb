{
 "cells": [
  {
   "cell_type": "markdown",
   "id": "5bb24b14",
   "metadata": {},
   "source": [
    "## 2025-10-01 2021114954 최민국"
   ]
  },
  {
   "cell_type": "markdown",
   "id": "6e68f2f7",
   "metadata": {},
   "source": [
    "## 여러가지 예외\n",
    "\n",
    ">>> 5/0 \n",
    "\n",
    "Traceback (most recent call last):\n",
    "  File \"<stdin>\", line 1, in <module>\n",
    "ZeroDivisionError: division by zero\n",
    "\n",
    ">>> a=[0,1,2]\n",
    "\n",
    ">>> a[3]\n",
    "\n",
    "Traceback (most recent call last):\n",
    "  File \"<stdin>\", line 1, in <module>\n",
    "IndexError: list index out of range\n",
    "\n",
    ">>> fp=open(Nofile.txt\".\"r\")\n",
    "  File \"<stdin>\", line 1\n",
    "    fp=open(Nofile.txt\".\"r\")\n",
    "                         ^\n",
    "SyntaxError: unterminated string literal (detected at line 1)\n",
    "\n",
    ">>> int(input('Type float number or string:'))\n",
    "Type float number or string:1.23\n",
    "Traceback (most recent call last):\n",
    "  File \"<stdin>\", line 1, in <module>\n",
    "ValueError: invalid literal for int() with base 10: '1.23'\n",
    "\n",
    ">>> 1+var*2\n",
    "Traceback (most recent call last):\n",
    "  File \"<stdin>\", line 1, in <module>\n",
    "NameError: name 'var' is not defined. Did you mean: 'vars'?\n",
    "\n",
    ">>> \"str\"+1\n",
    "Traceback (most recent call last):\n",
    "  File \"<stdin>\", line 1, in <module>\n",
    "TypeError: can only concatenate str (not \"int\") to str"
   ]
  },
  {
   "cell_type": "markdown",
   "id": "84bcdf80",
   "metadata": {},
   "source": [
    "## 예외처리\n",
    "try-except / try-except-else 문"
   ]
  },
  {
   "cell_type": "code",
   "execution_count": 1,
   "id": "0d5e3268",
   "metadata": {},
   "outputs": [
    {
     "ename": "SyntaxError",
     "evalue": "invalid syntax (3064603693.py, line 2)",
     "output_type": "error",
     "traceback": [
      "  \u001b[36mCell\u001b[39m\u001b[36m \u001b[39m\u001b[32mIn[1]\u001b[39m\u001b[32m, line 2\u001b[39m\n\u001b[31m    \u001b[39m\u001b[31ma=1/break\u001b[39m\n        ^\n\u001b[31mSyntaxError\u001b[39m\u001b[31m:\u001b[39m invalid syntax\n"
     ]
    }
   ],
   "source": [
    "try:\n",
    "    a=1/break\n",
    "except ZeroDivisionError:\n",
    "    print(\"0으로 나눌 수 없습니다\")\n",
    "else:\n",
    "    print(a)"
   ]
  },
  {
   "cell_type": "markdown",
   "id": "5c2c6083",
   "metadata": {},
   "source": [
    "## 예외를 알 수 없는 경우 try-except-else 문"
   ]
  },
  {
   "cell_type": "code",
   "execution_count": 3,
   "id": "ac88a42c",
   "metadata": {},
   "outputs": [
    {
     "name": "stdout",
     "output_type": "stream",
     "text": [
      "예외를 발생했습니다 invalid literal for int() with base 10: 'sad'\n"
     ]
    }
   ],
   "source": [
    "try:\n",
    "    a=int(input(\"Type aNumber:\"))\n",
    "except Exception as e:\n",
    "    print(\"예외를 발생했습니다\",e)\n",
    "else:\n",
    "    print(a)"
   ]
  },
  {
   "cell_type": "markdown",
   "id": "001af821",
   "metadata": {},
   "source": [
    "## 예외처리 (복합 try-except문)"
   ]
  },
  {
   "cell_type": "code",
   "execution_count": 5,
   "id": "f526c88b",
   "metadata": {},
   "outputs": [
    {
     "ename": "NameError",
     "evalue": "name 'ODError' is not defined",
     "output_type": "error",
     "traceback": [
      "\u001b[31m---------------------------------------------------------------------------\u001b[39m",
      "\u001b[31mFileNotFoundError\u001b[39m                         Traceback (most recent call last)",
      "\u001b[36mCell\u001b[39m\u001b[36m \u001b[39m\u001b[32mIn[5]\u001b[39m\u001b[32m, line 3\u001b[39m\n\u001b[32m      2\u001b[39m \u001b[38;5;28;01mtry\u001b[39;00m:\n\u001b[32m----> \u001b[39m\u001b[32m3\u001b[39m     fp = \u001b[38;5;28;43mopen\u001b[39;49m\u001b[43m(\u001b[49m\u001b[33;43m'\u001b[39;49m\u001b[33;43msample.txt\u001b[39;49m\u001b[33;43m'\u001b[39;49m\u001b[43m)\u001b[49m\n\u001b[32m      4\u001b[39m     sl = fp.readline()\n",
      "\u001b[36mFile \u001b[39m\u001b[32m~\\AppData\\Roaming\\Python\\Python312\\site-packages\\IPython\\core\\interactiveshell.py:343\u001b[39m, in \u001b[36m_modified_open\u001b[39m\u001b[34m(file, *args, **kwargs)\u001b[39m\n\u001b[32m    337\u001b[39m     \u001b[38;5;28;01mraise\u001b[39;00m \u001b[38;5;167;01mValueError\u001b[39;00m(\n\u001b[32m    338\u001b[39m         \u001b[33mf\u001b[39m\u001b[33m\"\u001b[39m\u001b[33mIPython won\u001b[39m\u001b[33m'\u001b[39m\u001b[33mt let you open fd=\u001b[39m\u001b[38;5;132;01m{\u001b[39;00mfile\u001b[38;5;132;01m}\u001b[39;00m\u001b[33m by default \u001b[39m\u001b[33m\"\u001b[39m\n\u001b[32m    339\u001b[39m         \u001b[33m\"\u001b[39m\u001b[33mas it is likely to crash IPython. If you know what you are doing, \u001b[39m\u001b[33m\"\u001b[39m\n\u001b[32m    340\u001b[39m         \u001b[33m\"\u001b[39m\u001b[33myou can use builtins\u001b[39m\u001b[33m'\u001b[39m\u001b[33m open.\u001b[39m\u001b[33m\"\u001b[39m\n\u001b[32m    341\u001b[39m     )\n\u001b[32m--> \u001b[39m\u001b[32m343\u001b[39m \u001b[38;5;28;01mreturn\u001b[39;00m \u001b[43mio_open\u001b[49m\u001b[43m(\u001b[49m\u001b[43mfile\u001b[49m\u001b[43m,\u001b[49m\u001b[43m \u001b[49m\u001b[43m*\u001b[49m\u001b[43margs\u001b[49m\u001b[43m,\u001b[49m\u001b[43m \u001b[49m\u001b[43m*\u001b[49m\u001b[43m*\u001b[49m\u001b[43mkwargs\u001b[49m\u001b[43m)\u001b[49m\n",
      "\u001b[31mFileNotFoundError\u001b[39m: [Errno 2] No such file or directory: 'sample.txt'",
      "\nDuring handling of the above exception, another exception occurred:\n",
      "\u001b[31mNameError\u001b[39m                                 Traceback (most recent call last)",
      "\u001b[36mCell\u001b[39m\u001b[36m \u001b[39m\u001b[32mIn[5]\u001b[39m\u001b[32m, line 6\u001b[39m\n\u001b[32m      4\u001b[39m     sl = fp.readline()\n\u001b[32m      5\u001b[39m     value=\u001b[38;5;28mint\u001b[39m(sl.strip())\n\u001b[32m----> \u001b[39m\u001b[32m6\u001b[39m \u001b[38;5;28;01mexcept\u001b[39;00m \u001b[43mODError\u001b[49m \u001b[38;5;28;01mas\u001b[39;00m err:\n\u001b[32m      7\u001b[39m     \u001b[38;5;28mprint\u001b[39m(\u001b[33m\"\u001b[39m\u001b[33mOS 오류:\u001b[39m\u001b[33m\"\u001b[39m, err)\n\u001b[32m      8\u001b[39m \u001b[38;5;28;01mexcept\u001b[39;00m \u001b[38;5;167;01mValueError\u001b[39;00m:\n",
      "\u001b[31mNameError\u001b[39m: name 'ODError' is not defined"
     ]
    }
   ],
   "source": [
    "import sys\n",
    "try:\n",
    "    fp = open('sample.txt')\n",
    "    sl = fp.readline()\n",
    "    value=int(sl.strip())\n",
    "except ODError as err:\n",
    "    print(\"OS 오류:\", err)\n",
    "except ValueError:\n",
    "    print(\"정수로 변환할 수 없습니다\")\n",
    "except:\n",
    "    print(\"알 수 없는 오류가 발생하였습니다\")"
   ]
  },
  {
   "cell_type": "markdown",
   "id": "e5271d45",
   "metadata": {},
   "source": [
    "## 예외처리(try-except-finally문)"
   ]
  },
  {
   "cell_type": "code",
   "execution_count": 6,
   "id": "54cc3cdf",
   "metadata": {},
   "outputs": [
    {
     "name": "stdout",
     "output_type": "stream",
     "text": [
      "예외처리가 끝났습니다\n"
     ]
    },
    {
     "ename": "NameError",
     "evalue": "name 'result' is not defined",
     "output_type": "error",
     "traceback": [
      "\u001b[31m---------------------------------------------------------------------------\u001b[39m",
      "\u001b[31mNameError\u001b[39m                                 Traceback (most recent call last)",
      "\u001b[36mCell\u001b[39m\u001b[36m \u001b[39m\u001b[32mIn[6]\u001b[39m\u001b[32m, line 2\u001b[39m\n\u001b[32m      1\u001b[39m \u001b[38;5;28;01mtry\u001b[39;00m:\n\u001b[32m----> \u001b[39m\u001b[32m2\u001b[39m     result = \u001b[43mx\u001b[49m / y\n\u001b[32m      3\u001b[39m \u001b[38;5;28;01mexcept\u001b[39;00m \u001b[38;5;167;01mZeroDivisionError\u001b[39;00m:\n",
      "\u001b[31mNameError\u001b[39m: name 'x' is not defined",
      "\nDuring handling of the above exception, another exception occurred:\n",
      "\u001b[31mNameError\u001b[39m                                 Traceback (most recent call last)",
      "\u001b[36mCell\u001b[39m\u001b[36m \u001b[39m\u001b[32mIn[6]\u001b[39m\u001b[32m, line 6\u001b[39m\n\u001b[32m      4\u001b[39m     \u001b[38;5;28mprint\u001b[39m(\u001b[33m\"\u001b[39m\u001b[33m0으로 나눌 수 없습니다\u001b[39m\u001b[33m\"\u001b[39m)\n\u001b[32m      5\u001b[39m \u001b[38;5;28;01mexcept\u001b[39;00m:\n\u001b[32m----> \u001b[39m\u001b[32m6\u001b[39m     \u001b[38;5;28mprint\u001b[39m(\u001b[43mresult\u001b[49m)\n\u001b[32m      7\u001b[39m \u001b[38;5;28;01mfinally\u001b[39;00m:\n\u001b[32m      8\u001b[39m     \u001b[38;5;28mprint\u001b[39m(\u001b[33m\"\u001b[39m\u001b[33m예외처리가 끝났습니다\u001b[39m\u001b[33m\"\u001b[39m)\n",
      "\u001b[31mNameError\u001b[39m: name 'result' is not defined"
     ]
    }
   ],
   "source": [
    "try:\n",
    "    result = x / y\n",
    "except ZeroDivisionError:\n",
    "    print(\"0으로 나눌 수 없습니다\")\n",
    "except:\n",
    "    print(result)\n",
    "finally:\n",
    "    print(\"예외처리가 끝났습니다\")\n",
    "    "
   ]
  },
  {
   "cell_type": "markdown",
   "id": "b8fea3b7",
   "metadata": {},
   "source": [
    "## 사용자 예외 클래스 "
   ]
  },
  {
   "cell_type": "code",
   "execution_count": 10,
   "id": "9868c240",
   "metadata": {},
   "outputs": [
    {
     "name": "stdout",
     "output_type": "stream",
     "text": [
      "프로그램종료.\n"
     ]
    },
    {
     "ename": "AttributeError",
     "evalue": "'NegativeNumberError' object has no attribute 'maessage'",
     "output_type": "error",
     "traceback": [
      "\u001b[31m---------------------------------------------------------------------------\u001b[39m",
      "\u001b[31mAttributeError\u001b[39m                            Traceback (most recent call last)",
      "\u001b[36mCell\u001b[39m\u001b[36m \u001b[39m\u001b[32mIn[10]\u001b[39m\u001b[32m, line 16\u001b[39m\n\u001b[32m     14\u001b[39m \u001b[38;5;28;01mtry\u001b[39;00m: \n\u001b[32m     15\u001b[39m     num = \u001b[38;5;28mint\u001b[39m(\u001b[38;5;28minput\u001b[39m(\u001b[33m\"\u001b[39m\u001b[33m양의정수를입력하세요: \u001b[39m\u001b[33m\"\u001b[39m)) \n\u001b[32m---> \u001b[39m\u001b[32m16\u001b[39m     result = \u001b[43mprocess_number\u001b[49m\u001b[43m(\u001b[49m\u001b[43mnum\u001b[49m\u001b[43m)\u001b[49m \n\u001b[32m     17\u001b[39m \u001b[38;5;28;01mexcept\u001b[39;00m \u001b[38;5;167;01mValueError\u001b[39;00m: \n\u001b[32m     18\u001b[39m     \u001b[38;5;28mprint\u001b[39m(\u001b[33m\"\u001b[39m\u001b[33m숫자가아닌값을입력했습니다.\u001b[39m\u001b[33m\"\u001b[39m) \n",
      "\u001b[36mCell\u001b[39m\u001b[36m \u001b[39m\u001b[32mIn[10]\u001b[39m\u001b[32m, line 12\u001b[39m, in \u001b[36mprocess_number\u001b[39m\u001b[34m(n)\u001b[39m\n\u001b[32m     10\u001b[39m \u001b[38;5;28;01mdef\u001b[39;00m\u001b[38;5;250m \u001b[39m\u001b[34mprocess_number\u001b[39m(n):\n\u001b[32m     11\u001b[39m     \u001b[38;5;28;01mif\u001b[39;00m n < \u001b[32m0\u001b[39m:\n\u001b[32m---> \u001b[39m\u001b[32m12\u001b[39m         \u001b[38;5;28;01mraise\u001b[39;00m \u001b[43mNegativeNumberError\u001b[49m\u001b[43m(\u001b[49m\u001b[43mn\u001b[49m\u001b[43m)\u001b[49m\n\u001b[32m     13\u001b[39m     \u001b[38;5;28;01mreturn\u001b[39;00m n*\u001b[32m2\u001b[39m\n",
      "\u001b[36mCell\u001b[39m\u001b[36m \u001b[39m\u001b[32mIn[10]\u001b[39m\u001b[32m, line 5\u001b[39m, in \u001b[36mNegativeNumberError.__init__\u001b[39m\u001b[34m(self, value)\u001b[39m\n\u001b[32m      3\u001b[39m \u001b[38;5;28mself\u001b[39m.value = value\n\u001b[32m      4\u001b[39m \u001b[38;5;28mself\u001b[39m.message = \u001b[33mf\u001b[39m\u001b[33m\"\u001b[39m\u001b[33m음수는 허용되지 않습니다: 입력갑(\u001b[39m\u001b[38;5;132;01m{\u001b[39;00mvalue\u001b[38;5;132;01m}\u001b[39;00m\u001b[33m)\u001b[39m\u001b[33m\"\u001b[39m\n\u001b[32m----> \u001b[39m\u001b[32m5\u001b[39m \u001b[38;5;28msuper\u001b[39m().\u001b[34m__init__\u001b[39m(\u001b[38;5;28;43mself\u001b[39;49m\u001b[43m.\u001b[49m\u001b[43mmaessage\u001b[49m)\n",
      "\u001b[31mAttributeError\u001b[39m: 'NegativeNumberError' object has no attribute 'maessage'"
     ]
    }
   ],
   "source": [
    "class NegativeNumberError(Exception):\n",
    "    def __init__(self, value):\n",
    "        self.value = value\n",
    "        self.message = f\"음수는 허용되지 않습니다: 입력갑({value})\"\n",
    "        super().__init__(self.maessage)\n",
    "\n",
    "    def __str__(Self):\n",
    "        return self.message\n",
    "    \n",
    "def process_number(n):\n",
    "    if n < 0:\n",
    "        raise NegativeNumberError(n)\n",
    "    return n*2\n",
    "try: \n",
    "    num = int(input(\"양의정수를입력하세요: \")) \n",
    "    result = process_number(num) \n",
    "except ValueError: \n",
    "    print(\"숫자가아닌값을입력했습니다.\") \n",
    "except NegativeNumberError as e: \n",
    "    print(f\"사용자정의예외발생: {e}\") \n",
    "else: \n",
    "    print(f\"처리결과: {result}\") \n",
    "finally: \n",
    "    print(\"프로그램종료.\")"
   ]
  },
  {
   "cell_type": "markdown",
   "id": "3a6e5993",
   "metadata": {},
   "source": [
    "## 파일 입출력\n",
    "### 표준 입출력\n",
    "표준 입력 (standard input): 키보드\n",
    "\n",
    "표준 출력 (standard output): 콘솔 화면\n",
    "\n",
    "표준 에러 (standard error): 콘솔 화면\n",
    "### 표준 입출력\n",
    "표준입출력대신에파일에기록하는것\n",
    "\n",
    "텍스트(text) 파일 : 사람이 볼 수 있는 문자 데이터를저장(메모장으로확인가능)\n",
    "\n",
    "이진(binary) 파일: 이진수 데이터를 저장\n",
    "### 파일 처리 과정\n",
    "열기: 파일 이름과처리목적(읽기또는쓰기)를지정해사용하려는파일을열기\n",
    "\n",
    "사용: 열린 파일에대한읽기또는쓰기를진행\n",
    "\n",
    "닫기: 파일의 사용이끝나면열린파일을닫아버퍼에있는내용을디스크에모두반영"
   ]
  },
  {
   "cell_type": "markdown",
   "id": "a332aaec",
   "metadata": {},
   "source": [
    "## 파일 다루기\n",
    "### 파일의 개념적 모델\n",
    "오프셋 0부터 끝까지 1BYTE 단위로 직렬화되어 저장됨\n",
    "### 파일의 열기\n",
    "fp = open(\"filename\", \"mode\")\n",
    "\n",
    "-Filename : 열고자 하는 파일명 (절대경로 혹은 상대경로로 지정) \n",
    "\n",
    "-mode : r, w, a, x / r+, w+, a+ / rb, wb, ab, rb+, wb+, ab+"
   ]
  },
  {
   "cell_type": "markdown",
   "id": "f9d84165",
   "metadata": {},
   "source": [
    "## 파일 다루기: 텍스트 파일\n",
    "\n",
    "### 파일의 열기 모드 (텍스트 파일)\n",
    "\n",
    "mode\n",
    "\n",
    "'r': 읽기전용 모드. 파일이 존재해야함.\n",
    "\n",
    "'w': 쓰기 전용 모드. 파일이 없으면 생성, 있으면 내용 덮어쓰기.\n",
    "\n",
    "'a': 추가 모드. 파일 끝에 내용을 덧붙임. 없으면 생성.\n",
    "\n",
    "'x': 배타적 생성 모드. 파일이 있으면 오류 발생. 없으면 새로 생성.\n",
    "\n",
    "'r+': 읽기/쓰기 모드. 파일이 존재해야함.\n",
    "\n",
    "'w+': 읽기/쓰기 모드. 파일을 새로 쓰기 시작함(내용 덮어쓰기).\n",
    "\n",
    "'a+': 읽기/쓰기 모드. 파일 끝에 덧붙이기. 기존 내용은 유지.\n"
   ]
  },
  {
   "cell_type": "markdown",
   "id": "2f0d6cac",
   "metadata": {},
   "source": [
    "## 텍스트 파일: 쓰기"
   ]
  },
  {
   "cell_type": "code",
   "execution_count": null,
   "id": "7dc930be",
   "metadata": {},
   "outputs": [],
   "source": [
    "ofile=open(\"./phonebook.txt\", \"w\", encoding=\"utf-8\") # 열기\n",
    "ofile.write(\"John Doe, 123-456-7890\\nJane Smith, 987-654-3210\\n\") \n",
    "ofile.write(\"Alice Johnson, 555-123-4567\\nBob Brown, 444-987-6543\\n\") \n",
    "ofile.writeline(\"Charlie Davis, 333-222-1111\\n\") \n",
    "ofile.writeline(\"Eve White, 777-888-9999\\n\") \n",
    "ofile.close()"
   ]
  },
  {
   "cell_type": "markdown",
   "id": "95f30377",
   "metadata": {},
   "source": [
    "## 텍스트 파일: 읽기"
   ]
  },
  {
   "cell_type": "code",
   "execution_count": 20,
   "id": "4a00b496",
   "metadata": {},
   "outputs": [
    {
     "name": "stdout",
     "output_type": "stream",
     "text": [
      "John Doe, 123-456-7890\n",
      "Jane Smith, 987-654-3210\n",
      "Alice Johnson, 555-123-4567\n",
      "Bob Brown, 444-987-6543\n",
      "Charlie Davis, 333-222-1111\n",
      "Eve White, 777-888-9999\n"
     ]
    },
    {
     "ename": "AttributeError",
     "evalue": "'_io.TextIOWrapper' object has no attribute 'redlines'",
     "output_type": "error",
     "traceback": [
      "\u001b[31m---------------------------------------------------------------------------\u001b[39m",
      "\u001b[31mAttributeError\u001b[39m                            Traceback (most recent call last)",
      "\u001b[36mCell\u001b[39m\u001b[36m \u001b[39m\u001b[32mIn[20]\u001b[39m\u001b[32m, line 10\u001b[39m\n\u001b[32m      8\u001b[39m \u001b[38;5;66;03m# or (단 파일 사이즈가 크면 메모리가 부족할 수 있어 앞의 것을 선호)\u001b[39;00m\n\u001b[32m      9\u001b[39m rfile = \u001b[38;5;28mopen\u001b[39m(\u001b[33m\"\u001b[39m\u001b[33m./phonebook.txt\u001b[39m\u001b[33m\"\u001b[39m, \u001b[33m\"\u001b[39m\u001b[33mr\u001b[39m\u001b[33m\"\u001b[39m, encoding=\u001b[33m\"\u001b[39m\u001b[33mutf-8\u001b[39m\u001b[33m\"\u001b[39m)\n\u001b[32m---> \u001b[39m\u001b[32m10\u001b[39m lines : \u001b[38;5;28mlist\u001b[39m = \u001b[43mrfile\u001b[49m\u001b[43m.\u001b[49m\u001b[43mredlines\u001b[49m()\n\u001b[32m     11\u001b[39m \u001b[38;5;28;01mfor\u001b[39;00m line \u001b[38;5;129;01min\u001b[39;00m lines:\n\u001b[32m     12\u001b[39m     \u001b[38;5;28mprint\u001b[39m(line.strip())\n",
      "\u001b[31mAttributeError\u001b[39m: '_io.TextIOWrapper' object has no attribute 'redlines'"
     ]
    }
   ],
   "source": [
    "rfile = open(\"./phonebook.txt\", \"r\", encoding=\"utf-8\")\n",
    "line : str = rfile.readline()\n",
    "while line:\n",
    "    print(line.strip())\n",
    "    line = rfile.readline()\n",
    "rfile.close()\n",
    "\n",
    "# or (단 파일 사이즈가 크면 메모리가 부족할 수 있어 앞의 것을 선호)\n",
    "rfile = open(\"./phonebook.txt\", \"r\", encoding=\"utf-8\")\n",
    "lines : list = rfile.redlines()\n",
    "for line in lines:\n",
    "    print(line.strip())\n",
    "rfile.close()\n"
   ]
  },
  {
   "cell_type": "markdown",
   "id": "ef72f64a",
   "metadata": {},
   "source": [
    "## 텍스트 파일: 읽기 예외 처리"
   ]
  },
  {
   "cell_type": "code",
   "execution_count": 24,
   "id": "4ff12df7",
   "metadata": {},
   "outputs": [
    {
     "name": "stdout",
     "output_type": "stream",
     "text": [
      "File not found: [Errno 2] No such file or directory: './phonebook1.txt'\n"
     ]
    }
   ],
   "source": [
    "try: \n",
    "    rfile=open(\"./phonebook1.txt\", \"r\", encoding=\"utf-8\") \n",
    "    lines: str=rfile.readline() \n",
    "    while line: \n",
    "        print(line.strip()) \n",
    "        line=rfile.readline() \n",
    "    rfile.close() \n",
    "except FileNotFoundError as e: \n",
    "    print(\"File not found:\", e)"
   ]
  },
  {
   "cell_type": "markdown",
   "id": "f9b2a29e",
   "metadata": {},
   "source": [
    "## 파일 열고 쓰고 닫기: 한번에 하는 방법 (with_as)\n",
    "\n"
   ]
  },
  {
   "cell_type": "code",
   "execution_count": null,
   "id": "ca4622f5",
   "metadata": {},
   "outputs": [],
   "source": []
  },
  {
   "cell_type": "code",
   "execution_count": 28,
   "id": "7b1d0c40",
   "metadata": {},
   "outputs": [
    {
     "name": "stdout",
     "output_type": "stream",
     "text": [
      "Name: John Doe, Phone: 123-456-7890\n",
      "Name: Jane Smith, Phone: 987-654-3210\n",
      "Name: Alice Johnson, Phone: 555-123-4567\n",
      "Name: Bob Brown, Phone: 444-987-6543\n",
      "Name: Charlie Davis, Phone: 333-222-1111\n",
      "Name: Eve White, Phone: 777-888-9999\n",
      "Name: John Doe, Phone: 123-456-7890\n",
      "Name: Jane Smith, Phone: 987-654-3210\n",
      "Name: Alice Johnson, Phone: 555-123-4567\n",
      "Name: Bob Brown, Phone: 444-987-6543\n",
      "Name: Charlie Davis, Phone: 333-222-1111\n",
      "Name: Eve White, Phone: 777-888-9999\n"
     ]
    }
   ],
   "source": [
    "contacts: dict = {'123-456-7890': 'John Doe', '987-654-3210': 'Jane Smith', \\\n",
    "                   '555-123-4567' : 'Alice Johnson', '444-987-6543': 'Bob Brown', \\\n",
    "                    '333-222-1111': 'Charlie Davis', '777-888-9999': 'Eve White'} \n",
    "with open(\"./phonebook.txt\", \"w\", encoding=\"utf-8\") as wfile: \n",
    "    for key, value in contacts.items():\n",
    "        wfile.write(f\"{value}, {key}\\n\") \n",
    "with open(\"./phonebook.txt\", \"r\", encoding=\"utf-8\") as rfile: \n",
    "    line : str = rfile.readline() \n",
    "    while line: \n",
    "        key, value = line.strip().split(\", \") \n",
    "        print(f\"Name: {key}, Phone: {value}\") \n",
    "        line = rfile.readline() \n",
    "with open(\"./phonebook.txt\", \"r\", encoding=\"utf-8\") as rfile: \n",
    "    for line in rfile: \n",
    "        key, value = line.strip().split(\", \") \n",
    "        print(f\"Name: {key.strip()}, Phone: {value.strip()}\")"
   ]
  },
  {
   "cell_type": "markdown",
   "id": "6c2937da",
   "metadata": {},
   "source": [
    "## 텍스트 파일: 추가하기"
   ]
  },
  {
   "cell_type": "code",
   "execution_count": 29,
   "id": "b459383a",
   "metadata": {},
   "outputs": [],
   "source": [
    "ofile = open(\"./phonebook.txt\", \"a\", encoding=\"utf-8\") # 열기\n",
    "ofile.write(\"홍길동, 123-456-7890\\n김정렬, 987-654-3210\\n\") \n",
    "ofile.close()"
   ]
  },
  {
   "cell_type": "markdown",
   "id": "3328cd54",
   "metadata": {},
   "source": [
    "## 이진 파일의 열기 모드\n",
    "\n",
    "mode\n",
    "\n",
    "'rb': 바이너리 읽기 모드\n",
    "\n",
    "'wb': 바이너리 쓰기 모드\n",
    "\n",
    "'ab': 바이너리 추가 모드\n",
    "\n",
    "'rb+': 바이너리 읽기/쓰기 모드\n",
    "\n",
    "'wb+': 바이너리 읽기/쓰기 모드(덮어쓰기)\n",
    "\n",
    "'ab+': 바이너리 읽기/쓰기 모드 (추가)"
   ]
  },
  {
   "cell_type": "markdown",
   "id": "086f02dd",
   "metadata": {},
   "source": [
    "## 이진 파일 다루기 예제(고정길이 전화번호부)"
   ]
  },
  {
   "cell_type": "code",
   "execution_count": 31,
   "id": "dd9b367c",
   "metadata": {},
   "outputs": [],
   "source": [
    "class ContactRecord: \n",
    "    def __init__(self, phone: str, name: str, age: int = None): \n",
    "        self.phone = phone \n",
    "        self.name = name \n",
    "        self.age = age if age is not None else 0 \n",
    "    def __str__(self) -> str: \n",
    "        return f\"전화번호: {self.phone}, 이름: {self.name}, 나이: {self.age}\" \n",
    "    # 테스트용연락처데이터\n",
    "contacts = [ \n",
    "    ContactRecord(\"010-1234-5678\", \"홍길동\", 25), \n",
    "    ContactRecord(\"010-2345-6789\", \"김철수\", 30), \n",
    "    ContactRecord(\"010-3456-7890\", \"이영희\", 28), \n",
    "    ContactRecord(\"010-4567-8901\", \"박민수\", 35) \n",
    "    ]"
   ]
  },
  {
   "cell_type": "markdown",
   "id": "7a6680d8",
   "metadata": {},
   "source": [
    "## 이진 파일 다루기 예제(레코드 바이트 패킹/언패킹 함수정의)"
   ]
  },
  {
   "cell_type": "code",
   "execution_count": 32,
   "id": "9d0b4780",
   "metadata": {},
   "outputs": [],
   "source": [
    "import struct\n",
    "\n",
    "def pack_contact_record(contact: ContactRecord) -> bytes:\n",
    "    phone_bytes= contact.phone.encode('utf-8')[:16].ljust(16, b'\\x00') \n",
    "    name_bytes= contact.name.encode('utf-8')[:16].ljust(16, b'\\x00')\n",
    "\n",
    "    return struct.pack(\"16s16si\", phone_bytes, name_bytes, contact.age)\n",
    "\n",
    "def unpack_contact_record(record: bytes) -> ContactRecord:\n",
    "    phone_bytes, name_bytes, age = struct.unpack(\"16s16si\", record)\n",
    "    phone = phone_bytes.rstrip(b'\\x00').decode('utf-8', errors='ignore') \n",
    "    name = name_bytes.rstrip(b'\\x00').decode('utf-8', errors='ignore') \n",
    "\n",
    "    return ContactRecord(phone, name, age)"
   ]
  },
  {
   "cell_type": "markdown",
   "id": "b21cb517",
   "metadata": {},
   "source": [
    "## 이진 파일 다루기 예제(전화번호부 읽고 쓰기)"
   ]
  },
  {
   "cell_type": "code",
   "execution_count": 35,
   "id": "b0fd8141",
   "metadata": {},
   "outputs": [
    {
     "name": "stdout",
     "output_type": "stream",
     "text": [
      "36바이트레코드로저장:\n",
      " 저장: 전화번호: 010-1234-5678, 이름: 홍길동, 나이: 25\n",
      " 저장: 전화번호: 010-2345-6789, 이름: 김철수, 나이: 30\n",
      " 저장: 전화번호: 010-3456-7890, 이름: 이영희, 나이: 28\n",
      " 저장: 전화번호: 010-4567-8901, 이름: 박민수, 나이: 35\n",
      "\n",
      "36바이트레코드읽기:\n",
      " 레코드1: 전화번호: 010-1234-5678, 이름: 홍길동, 나이: 25\n",
      " 레코드2: 전화번호: 010-2345-6789, 이름: 김철수, 나이: 30\n",
      " 레코드3: 전화번호: 010-3456-7890, 이름: 이영희, 나이: 28\n",
      " 레코드4: 전화번호: 010-4567-8901, 이름: 박민수, 나이: 35\n",
      "\n",
      "파일크기확인:\n",
      "contacts_struct.bin: 144바이트(4개레코드)\n"
     ]
    }
   ],
   "source": [
    "print(\"36바이트레코드로저장:\") \n",
    "with open(\"./contacts_struct.bin\", \"wb\") as file: \n",
    "    for contact in contacts: \n",
    "        # pack_contact_record함수를사용하여레코드생성\n",
    "        record=pack_contact_record(contact) \n",
    "        file.write(record) \n",
    "        print(f\" 저장: {contact}\") \n",
    "        \n",
    "print(\"\\n36바이트레코드읽기:\") \n",
    "with open(\"./contacts_struct.bin\", \"rb\") as file: \n",
    "    record_num=1 \n",
    "    while True: \n",
    "        record=file.read(36) # 36바이트씩읽기(16+16+4) \n",
    "        if not record or len(record) <36: \n",
    "            break \n",
    "    \n",
    "    # unpack_contact_record함수를사용하여레코드해석\n",
    "        contact=unpack_contact_record(record) \n",
    "        print(f\" 레코드{record_num}: {contact}\") \n",
    "        record_num+=1 \n",
    "    \n",
    "print(f\"\\n파일크기확인:\") \n",
    "import os \n",
    "if os.path.exists(\"./contacts_struct.bin\"): \n",
    "    size=os.path.getsize(\"./contacts_struct.bin\") \n",
    "    records=size//36 \n",
    "    print(f\"contacts_struct.bin: {size}바이트({records}개레코드)\")"
   ]
  },
  {
   "cell_type": "markdown",
   "id": "9947c8a6",
   "metadata": {},
   "source": [
    "## 이진 파일 다루기 예제(전화번호부 검색하여 수정)"
   ]
  },
  {
   "cell_type": "code",
   "execution_count": null,
   "id": "8240b3d9",
   "metadata": {},
   "outputs": [],
   "source": [
    "def update_contact_in_binary_file(filename: str, target_phone: str, new_name: str, new_age: int) \n",
    "-> bool: \n",
    "\"\"\"이진파일에서특정전화번호의연락처정보수정\"\"\" \n",
    "    try: \n",
    "        with open(filename, \"r+b\") as file: \n",
    "            record_num = 0 \n",
    "            while True: \n",
    "                position = file.tell() # 현재위치저장\n",
    "                record =file.read(36) # 36바이트레코드\n",
    "                if not record or len(record) <36: \n",
    "                    break \n",
    "                record_num += 1 \n",
    "                contact = unpack_contact_record(record) \n",
    "                if contact.phone== target_phone: \n",
    "                    # 새로운연락처레코드생성\n",
    "                    new_contact = ContactRecord(target_phone, new_name, new_age) \n",
    "                    new_record =pack_contact_record(new_contact) \n",
    "                    # 해당위치로돌아가서수정\n",
    "                    file.seek(position) \n",
    "                    file.write(new_record)\n",
    "                    print(f\"레코드{record_num}수정완료:\") \n",
    "                    print(f\"이전: {contact}\") \n",
    "                    print(f\"이후: {new_contact}\") \n",
    "                    return True \n",
    "        print(f\"전화번호'{target_phone}'을찾을수없습니다.\") \n",
    "        return False \n",
    "except FileNotFoundError: \n",
    "print(f\"파일{filename}을찾을수없습니다.\")\n",
    "return False"
   ]
  },
  {
   "cell_type": "markdown",
   "id": "0868bb4f",
   "metadata": {},
   "source": [
    "## with~as 구문"
   ]
  },
  {
   "cell_type": "code",
   "execution_count": 36,
   "id": "974ec585",
   "metadata": {},
   "outputs": [
    {
     "ename": "FileNotFoundError",
     "evalue": "[Errno 2] No such file or directory: 'data.txt'",
     "output_type": "error",
     "traceback": [
      "\u001b[31m---------------------------------------------------------------------------\u001b[39m",
      "\u001b[31mFileNotFoundError\u001b[39m                         Traceback (most recent call last)",
      "\u001b[36mCell\u001b[39m\u001b[36m \u001b[39m\u001b[32mIn[36]\u001b[39m\u001b[32m, line 1\u001b[39m\n\u001b[32m----> \u001b[39m\u001b[32m1\u001b[39m \u001b[38;5;28;01mwith\u001b[39;00m \u001b[38;5;28;43mopen\u001b[39;49m\u001b[43m(\u001b[49m\u001b[33;43m\"\u001b[39;49m\u001b[33;43mdata.txt\u001b[39;49m\u001b[33;43m\"\u001b[39;49m\u001b[43m,\u001b[49m\u001b[43m \u001b[49m\u001b[33;43m\"\u001b[39;49m\u001b[33;43mr\u001b[39;49m\u001b[33;43m\"\u001b[39;49m\u001b[43m)\u001b[49m \u001b[38;5;28;01mas\u001b[39;00m f:\n\u001b[32m      2\u001b[39m     content = f.read()\n\u001b[32m      3\u001b[39m     \u001b[38;5;28mprint\u001b[39m(content)\n",
      "\u001b[36mFile \u001b[39m\u001b[32m~\\AppData\\Roaming\\Python\\Python312\\site-packages\\IPython\\core\\interactiveshell.py:343\u001b[39m, in \u001b[36m_modified_open\u001b[39m\u001b[34m(file, *args, **kwargs)\u001b[39m\n\u001b[32m    336\u001b[39m \u001b[38;5;28;01mif\u001b[39;00m file \u001b[38;5;129;01min\u001b[39;00m {\u001b[32m0\u001b[39m, \u001b[32m1\u001b[39m, \u001b[32m2\u001b[39m}:\n\u001b[32m    337\u001b[39m     \u001b[38;5;28;01mraise\u001b[39;00m \u001b[38;5;167;01mValueError\u001b[39;00m(\n\u001b[32m    338\u001b[39m         \u001b[33mf\u001b[39m\u001b[33m\"\u001b[39m\u001b[33mIPython won\u001b[39m\u001b[33m'\u001b[39m\u001b[33mt let you open fd=\u001b[39m\u001b[38;5;132;01m{\u001b[39;00mfile\u001b[38;5;132;01m}\u001b[39;00m\u001b[33m by default \u001b[39m\u001b[33m\"\u001b[39m\n\u001b[32m    339\u001b[39m         \u001b[33m\"\u001b[39m\u001b[33mas it is likely to crash IPython. If you know what you are doing, \u001b[39m\u001b[33m\"\u001b[39m\n\u001b[32m    340\u001b[39m         \u001b[33m\"\u001b[39m\u001b[33myou can use builtins\u001b[39m\u001b[33m'\u001b[39m\u001b[33m open.\u001b[39m\u001b[33m\"\u001b[39m\n\u001b[32m    341\u001b[39m     )\n\u001b[32m--> \u001b[39m\u001b[32m343\u001b[39m \u001b[38;5;28;01mreturn\u001b[39;00m \u001b[43mio_open\u001b[49m\u001b[43m(\u001b[49m\u001b[43mfile\u001b[49m\u001b[43m,\u001b[49m\u001b[43m \u001b[49m\u001b[43m*\u001b[49m\u001b[43margs\u001b[49m\u001b[43m,\u001b[49m\u001b[43m \u001b[49m\u001b[43m*\u001b[49m\u001b[43m*\u001b[49m\u001b[43mkwargs\u001b[49m\u001b[43m)\u001b[49m\n",
      "\u001b[31mFileNotFoundError\u001b[39m: [Errno 2] No such file or directory: 'data.txt'"
     ]
    }
   ],
   "source": [
    "with open(\"data.txt\", \"r\") as f:\n",
    "    content = f.read()\n",
    "    print(content)"
   ]
  },
  {
   "cell_type": "markdown",
   "id": "ac51a8ec",
   "metadata": {},
   "source": []
  },
  {
   "cell_type": "markdown",
   "id": "ff12d1ad",
   "metadata": {},
   "source": [
    "## with~as 구문 : 사용자 정의 표현식(사용자정의Context 클래스)"
   ]
  },
  {
   "cell_type": "code",
   "execution_count": 37,
   "id": "fd429dd4",
   "metadata": {},
   "outputs": [
    {
     "name": "stdout",
     "output_type": "stream",
     "text": [
      "자원 획득\n",
      "작업 시작\n",
      "자원 해제\n"
     ]
    }
   ],
   "source": [
    "class MyContext: \n",
    "    def __enter__(self): \n",
    "        print(\"자원 획득\") \n",
    "        return \"작업 시작\" \n",
    "    def __exit__(self, exc_type, exc_value, traceback): \n",
    "        print(\"자원 해제\") \n",
    "with MyContext() as msg: \n",
    "    print(msg)"
   ]
  },
  {
   "cell_type": "markdown",
   "id": "7b8bb47a",
   "metadata": {},
   "source": [
    "## with~as 구문 : Context 클래스 contextmanager 사용"
   ]
  },
  {
   "cell_type": "code",
   "execution_count": 39,
   "id": "03706af5",
   "metadata": {},
   "outputs": [
    {
     "name": "stdout",
     "output_type": "stream",
     "text": [
      "Hello, World!\n",
      "\n"
     ]
    }
   ],
   "source": [
    "from contextlib import contextmanager \n",
    "\n",
    "@contextmanager \n",
    "def open_file(name, mode): \n",
    "    f = open(name, mode) \n",
    "    try: \n",
    "        yield f \n",
    "    finally: \n",
    "        f.close()\n",
    "with open_file(\"data.txt\", \"w+\") as file: \n",
    "    file.write(\"Hello, World!\\n\") \n",
    "    file.seek(0) \n",
    "    content = file.read() \n",
    "    print(content)"
   ]
  },
  {
   "cell_type": "markdown",
   "id": "78377e6e",
   "metadata": {},
   "source": [
    "## F-string"
   ]
  },
  {
   "cell_type": "markdown",
   "id": "78538492",
   "metadata": {},
   "source": [
    "## 변수나표현식으로내용을변경할수있는포맷문자열f’ {} '"
   ]
  },
  {
   "cell_type": "code",
   "execution_count": 41,
   "id": "e4c28cd8",
   "metadata": {},
   "outputs": [
    {
     "name": "stdout",
     "output_type": "stream",
     "text": [
      "|||||||||10|||||||||\n",
      "양수부호표시+10\n",
      "날짜Tue Aug 16 21:30:00 1988\n",
      "날짜2025년10월01일14시45분41초\n",
      "bool(a) = True\n"
     ]
    },
    {
     "ename": "NameError",
     "evalue": "name 'Print' is not defined",
     "output_type": "error",
     "traceback": [
      "\u001b[31m---------------------------------------------------------------------------\u001b[39m",
      "\u001b[31mNameError\u001b[39m                                 Traceback (most recent call last)",
      "\u001b[36mCell\u001b[39m\u001b[36m \u001b[39m\u001b[32mIn[41]\u001b[39m\u001b[32m, line 15\u001b[39m\n\u001b[32m     13\u001b[39m \u001b[38;5;28mprint\u001b[39m(\u001b[33mf\u001b[39m\u001b[33m'\u001b[39m\u001b[33m날짜\u001b[39m\u001b[38;5;132;01m{\u001b[39;00mnow\u001b[38;5;132;01m:\u001b[39;00m\u001b[33m%Y년%m월%d일%H시%M분%S초\u001b[39m\u001b[38;5;132;01m}\u001b[39;00m\u001b[33m'\u001b[39m) \u001b[38;5;66;03m# '2022년08월16일21시30분00초' \u001b[39;00m\n\u001b[32m     14\u001b[39m \u001b[38;5;28mprint\u001b[39m(\u001b[33mf\u001b[39m\u001b[33m'\u001b[39m\u001b[38;5;132;01m{\u001b[39;00m\u001b[38;5;28mbool\u001b[39m(a)\u001b[38;5;250m \u001b[39m\u001b[38;5;132;01m= }\u001b[39;00m\u001b[33m'\u001b[39m) \u001b[38;5;66;03m# 'bool(a) = True' \u001b[39;00m\n\u001b[32m---> \u001b[39m\u001b[32m15\u001b[39m \u001b[43mPrint\u001b[49m(\u001b[33mf\u001b[39m\u001b[33m'\u001b[39m\u001b[33m소수점아래2자리\u001b[39m\u001b[38;5;132;01m{\u001b[39;00mn\u001b[38;5;132;01m:\u001b[39;00m\u001b[33m_.2f\u001b[39m\u001b[38;5;132;01m}\u001b[39;00m\u001b[33m'\u001b[39m) \u001b[38;5;66;03m# ‘10.00’ \u001b[39;00m\n\u001b[32m     16\u001b[39m Print(\u001b[33mf\u001b[39m\u001b[33m'\u001b[39m\u001b[33m왼쪽정렬\u001b[39m\u001b[38;5;132;01m{\u001b[39;00mm\u001b[38;5;132;01m:\u001b[39;00m\u001b[33m<10,\u001b[39m\u001b[38;5;132;01m}\u001b[39;00m\u001b[33m'\u001b[39m)\n\u001b[32m     17\u001b[39m Print(\u001b[33m'\u001b[39m\u001b[33m수식결과\u001b[39m\u001b[33m{\u001b[39m\u001b[33m3+4= }\u001b[39m\u001b[33m'\u001b[39m) \u001b[38;5;66;03m# '3 + 4 = 7' \u001b[39;00m\n",
      "\u001b[31mNameError\u001b[39m: name 'Print' is not defined"
     ]
    }
   ],
   "source": [
    "from datetime import datetime# datetime 모듈에서datetime 클래스만임포트\n",
    "\n",
    "n=10 \n",
    "date=datetime(1988, 8, 16, 21, 30) \n",
    "print(f'{n:|^20}') # '0000000010' \n",
    "date=datetime(1988, 8, 16, 21, 30) \n",
    "now=datetime.now() \n",
    "m=20000 \n",
    "a=True\n",
    "\n",
    "print(f'양수부호표시{n:+}') \n",
    "print(f'날짜{date:%c}') # 'Tue Aug 16 21:30:00 1988' \n",
    "print(f'날짜{now:%Y년%m월%d일%H시%M분%S초}') # '2022년08월16일21시30분00초' \n",
    "print(f'{bool(a) = }') # 'bool(a) = True' \n",
    "Print(f'소수점아래2자리{n:_.2f}') # ‘10.00’ \n",
    "Print(f'왼쪽정렬{m:<10,}')\n",
    "Print('수식결과{3+4= }') # '3 + 4 = 7' \n",
    "print(f'우측정렬{m:0>10}') # '0000000010' \n",
    "print(f'중앙정렬과쉼표표기{m:^20,}') # ' 20,000 ' \n",
    "print(f\"0으로패딩: '{num:010.2f}'\")\n",
    "\n",
    "print(f\"십진수: {number}\") \n",
    "print(f\"이진수: {number:b}\") \n",
    "print(f\"이진수(0b 접두사): {number:#b}\") \n",
    "print(f\"팔진수: {number:o}\") \n",
    "print(f\"팔진수(0o 접두사): {number:#o}\") \n",
    "print(f\"십육진수: {number:x}\") \n",
    "print(f\"십육진수(대문자): {number:X}\") \n",
    "print(f\"십육진수(0x 접두사): {number:#x}\") \n",
    "print(f\"십육진수(대문자, 0X 접두사): {number:#X}\")"
   ]
  },
  {
   "cell_type": "markdown",
   "id": "5714d162",
   "metadata": {},
   "source": [
    "## 날짜와 시간"
   ]
  },
  {
   "cell_type": "code",
   "execution_count": 43,
   "id": "57b7edb2",
   "metadata": {},
   "outputs": [
    {
     "name": "stdout",
     "output_type": "stream",
     "text": [
      "현재시간: 2025-10-01 14:46:51.423461\n",
      "기본포맷: 2025-10-01 14:46:51\n",
      "한국날짜형식: 2025년10월01일\n",
      "시간만: 14:46:51\n",
      "AM/PM 형식: 2025-10-01 02:46:51 PM\n",
      "요일: Wednesday\n",
      "월이름: October\n",
      "ISO형식: 2025-10-01T14:46:51\n",
      "\n",
      "생일: 1995년05월15일14시30분\n"
     ]
    }
   ],
   "source": [
    "from datetime import datetime \n",
    "\n",
    "now = datetime.now() \n",
    "birthday = datetime(1995, 5, 15, 14, 30, 0) \n",
    "print(f\"현재시간: {now}\") \n",
    "print(f\"기본포맷: {now:%Y-%m-%d %H:%M:%S}\") \n",
    "print(f\"한국날짜형식: {now:%Y년%m월%d일}\") \n",
    "print(f\"시간만: {now:%H:%M:%S}\") \n",
    "print(f\"AM/PM 형식: {now:%Y-%m-%d %I:%M:%S %p}\") \n",
    "print(f\"요일: {now:%A}\") \n",
    "print(f\"월이름: {now:%B}\") \n",
    "print(f\"ISO형식: {now:%Y-%m-%dT%H:%M:%S}\") \n",
    "print(f\"\\n생일: {birthday:%Y년%m월%d일%H시%M분}\")"
   ]
  },
  {
   "cell_type": "markdown",
   "id": "51a50fa6",
   "metadata": {},
   "source": [
    "## 표현식과 함수 호출"
   ]
  },
  {
   "cell_type": "code",
   "execution_count": 44,
   "id": "dccb9e4c",
   "metadata": {},
   "outputs": [
    {
     "name": "stdout",
     "output_type": "stream",
     "text": [
      "10 + 3 = 13\n",
      "10-3 = 7\n",
      "10 * 3 = 30\n",
      "10 / 3 = 3.33\n",
      "10 ** 3 = 1000\n",
      "10 % 3 = 1\n",
      "sqrt(10) = 3.16\n",
      "sin(π/2) = 1.00\n",
      "대문자: PYTHON\n",
      "길이: 6\n",
      "첫글자: p\n",
      "성적: 85점(합격)\n"
     ]
    }
   ],
   "source": [
    "import math \n",
    "a=10 \n",
    "b=3 \n",
    "name= \"python\" \n",
    "# 수학연산\n",
    "print(f\"{a} + {b} = {a+ b}\") \n",
    "print(f\"{a}-{b} = {a-b}\") \n",
    "print(f\"{a} * {b} = {a* b}\") \n",
    "print(f\"{a} / {b} = {a/ b:.2f}\") \n",
    "print(f\"{a} ** {b} = {a**b}\") \n",
    "print(f\"{a} % {b} = {a% b}\") \n",
    "# 함수호출\n",
    "print(f\"sqrt({a}) = {math.sqrt(a):.2f}\") \n",
    "print(f\"sin(π/2) = {math.sin(math.pi/2):.2f}\") \n",
    "\n",
    "# 문자열메서드\n",
    "print(f\"대문자: {name.upper()}\") \n",
    "print(f\"길이: {len(name)}\") \n",
    "print(f\"첫글자: {name[0]}\") \n",
    "\n",
    "# 조건식\n",
    "score= 85 \n",
    "print(f\"성적: {score}점({'합격' if score >=60 else '불합격'})\")"
   ]
  },
  {
   "cell_type": "markdown",
   "id": "e6d1cffe",
   "metadata": {},
   "source": [
    "## 문자열 정렬과 패딩"
   ]
  },
  {
   "cell_type": "code",
   "execution_count": 45,
   "id": "7a0c2bcd",
   "metadata": {},
   "outputs": [
    {
     "name": "stdout",
     "output_type": "stream",
     "text": [
      "기본정렬:\n",
      "'Python              '\n",
      "'              Python'\n",
      "'       Python       '\n",
      "\n",
      "특수문자로패딩:\n",
      "'Python--------------'\n",
      "'**************Python'\n",
      "'=======Python======='\n",
      "\n",
      "숫자정렬:\n",
      "'     1'\n",
      "\n",
      "테이블형태:\n",
      "이름        나이   점수\n",
      "김철수       25   85\n",
      "이영희       30   92\n",
      "박민수       22   78\n",
      "'    22'\n",
      "\n",
      "테이블형태:\n",
      "이름        나이   점수\n",
      "김철수       25   85\n",
      "이영희       30   92\n",
      "박민수       22   78\n",
      "'   333'\n",
      "\n",
      "테이블형태:\n",
      "이름        나이   점수\n",
      "김철수       25   85\n",
      "이영희       30   92\n",
      "박민수       22   78\n",
      "'  4444'\n",
      "\n",
      "테이블형태:\n",
      "이름        나이   점수\n",
      "김철수       25   85\n",
      "이영희       30   92\n",
      "박민수       22   78\n"
     ]
    }
   ],
   "source": [
    "text = \"Python\" \n",
    "width = 20 \n",
    "print(\"기본정렬:\") \n",
    "print(f\"'{text:<{width}}'\") # 왼쪽정렬\n",
    "print(f\"'{text:>{width}}'\") # 오른쪽정렬\n",
    "print(f\"'{text:^{width}}'\") # 가운데정렬\n",
    "print(\"\\n특수문자로패딩:\") \n",
    "print(f\"'{text:-<{width}}'\") # 왼쪽정렬, -패딩\n",
    "print(f\"'{text:*>{width}}'\") # 오른쪽정렬, * 패딩\n",
    "print(f\"'{text:=^{width}}'\") # 가운데정렬, = 패딩\n",
    "print(\"\\n숫자정렬:\") \n",
    "numbers = [1, 22, 333, 4444] \n",
    "for num in numbers: \n",
    "    print(f\"'{num:>6}'\") # 오른쪽정렬, 폭6 \n",
    "    print(\"\\n테이블형태:\") \n",
    "    data = [ \n",
    "        (\"이름\", \"나이\", \"점수\"), \n",
    "        (\"김철수\", 25, 85), \n",
    "        (\"이영희\", 30, 92), \n",
    "        (\"박민수\", 22, 78) \n",
    "    ] \n",
    "    for row in data: \n",
    "        print(f\"{row[0]:<8} {row[1]:>3} {row[2]:>4}\")"
   ]
  },
  {
   "cell_type": "markdown",
   "id": "47ff6a74",
   "metadata": {},
   "source": [
    "## 중괄호이스케이프와특수문자"
   ]
  },
  {
   "cell_type": "code",
   "execution_count": 46,
   "id": "3c65c546",
   "metadata": {},
   "outputs": [
    {
     "name": "stdout",
     "output_type": "stream",
     "text": [
      "딕셔너리형태: {'name': 'Python'}\n",
      "중괄호출력: {변수}\n",
      "파일경로: C:\\Users\\Python\\Documents\n",
      "인용문: She said, 'Hello!'\n",
      "\n",
      "이름: Python\n",
      "길이: 6\n",
      "대문자: PYTHON \n",
      "\n",
      "일반출력: hello\n",
      "world\n",
      "repr출력: 'hello\\nworld'\n",
      "x=10, y=20\n",
      "x + y=30\n"
     ]
    }
   ],
   "source": [
    "name= \"Python\" # 중괄호이스케이프와특수문자\n",
    "\n",
    "print(f\"딕셔너리형태: {{'name': '{name}'}}\") # 중괄호출력하기(이중중괄호사용) \n",
    "print(f\"중괄호출력: {{변수}}\") \n",
    "\n",
    "file_path = r\"C:\\Users\\Python\\Documents\"# 백슬래시와따옴표\n",
    "quote= \"She said, 'Hello!'\" \n",
    "print(f\"파일경로: {file_path}\") \n",
    "print(f'인용문: {quote}') # 여러줄f-string \n",
    "multi_line = f\"\"\"\n",
    "이름: {name}\n",
    "길이: {len(name)}\n",
    "대문자: {name.upper()} \n",
    "\"\"\" \n",
    "print(multi_line) # repr() 형태로출력(!r 사용) \n",
    "debug_var= \"hello\\nworld\" \n",
    "print(f\"일반출력: {debug_var}\") \n",
    "print(f\"repr출력: {debug_var!r}\") # 디버깅용출력(Python 3.8+) \n",
    "x=10 \n",
    "y=20 \n",
    "print(f\"{x=}, {y=}\") \n",
    "print(f\"{x + y=}\")"
   ]
  },
  {
   "cell_type": "markdown",
   "id": "55d22203",
   "metadata": {},
   "source": [
    "## 실용예제: 진행률표시, 로그메시지"
   ]
  },
  {
   "cell_type": "code",
   "execution_count": 47,
   "id": "6daa4591",
   "metadata": {},
   "outputs": [
    {
     "name": "stdout",
     "output_type": "stream",
     "text": [
      "진행률: |--------------------| 0.0% (0/100)\n",
      "\n",
      "==================================================\n",
      "[2025-10-01 14:54:39]  INFO | 프로그램이시작되었습니다\n",
      "[2025-10-01 14:54:39] ERROR | 파일을찾을수없습니다\n",
      "[2025-10-01 14:54:39] DEBUG | 변수x의값: 42\n",
      "\n",
      "==================================================\n",
      "진행률: |████----------------| 20.0% (20/100)\n",
      "\n",
      "==================================================\n",
      "[2025-10-01 14:54:39]  INFO | 프로그램이시작되었습니다\n",
      "[2025-10-01 14:54:39] ERROR | 파일을찾을수없습니다\n",
      "[2025-10-01 14:54:39] DEBUG | 변수x의값: 42\n",
      "\n",
      "==================================================\n",
      "진행률: |████████------------| 40.0% (40/100)\n",
      "\n",
      "==================================================\n",
      "[2025-10-01 14:54:39]  INFO | 프로그램이시작되었습니다\n",
      "[2025-10-01 14:54:39] ERROR | 파일을찾을수없습니다\n",
      "[2025-10-01 14:54:39] DEBUG | 변수x의값: 42\n",
      "\n",
      "==================================================\n",
      "진행률: |████████████--------| 60.0% (60/100)\n",
      "\n",
      "==================================================\n",
      "[2025-10-01 14:54:39]  INFO | 프로그램이시작되었습니다\n",
      "[2025-10-01 14:54:39] ERROR | 파일을찾을수없습니다\n",
      "[2025-10-01 14:54:39] DEBUG | 변수x의값: 42\n",
      "\n",
      "==================================================\n",
      "진행률: |████████████████----| 80.0% (80/100)\n",
      "\n",
      "==================================================\n",
      "[2025-10-01 14:54:39]  INFO | 프로그램이시작되었습니다\n",
      "[2025-10-01 14:54:39] ERROR | 파일을찾을수없습니다\n",
      "[2025-10-01 14:54:39] DEBUG | 변수x의값: 42\n",
      "\n",
      "==================================================\n",
      "진행률: |████████████████████| 100.0% (100/100)\n",
      "\n",
      "==================================================\n",
      "[2025-10-01 14:54:39]  INFO | 프로그램이시작되었습니다\n",
      "[2025-10-01 14:54:39] ERROR | 파일을찾을수없습니다\n",
      "[2025-10-01 14:54:39] DEBUG | 변수x의값: 42\n",
      "\n",
      "==================================================\n"
     ]
    }
   ],
   "source": [
    "# 1. 진행률표시\n",
    "def show_progress(current, total): \n",
    "    percentage=(current/total) *100 \n",
    "    bar_length=20 \n",
    "    filled_length=int(bar_length*current/total) \n",
    "    bar='█'*filled_length+'-'*(bar_length-filled_length) \n",
    "    return f\"\\r진행률: |{bar}| {percentage:.1f}% ({current}/{total})\" \n",
    "for i in range(0, 101, 20): \n",
    "    print(show_progress(i, 100)) \n",
    "    print(\"\\n\"+\"=\"*50) # 2. 로그메시지포맷팅\n",
    "    import datetime \n",
    "    def log_message(level, message): \n",
    "        timestamp=datetime.datetime.now() \n",
    "        return f\"[{timestamp:%Y-%m-%d %H:%M:%S}] {level:>5} | {message}\" \n",
    "    print(log_message(\"INFO\", \"프로그램이시작되었습니다\")) \n",
    "    print(log_message(\"ERROR\", \"파일을찾을수없습니다\")) \n",
    "    print(log_message(\"DEBUG\", \"변수x의값: 42\")) \n",
    "    print(\"\\n\"+\"=\"*50)"
   ]
  },
  {
   "cell_type": "markdown",
   "id": "d4b2a2ec",
   "metadata": {},
   "source": []
  }
 ],
 "metadata": {
  "kernelspec": {
   "display_name": "Python 3",
   "language": "python",
   "name": "python3"
  },
  "language_info": {
   "codemirror_mode": {
    "name": "ipython",
    "version": 3
   },
   "file_extension": ".py",
   "mimetype": "text/x-python",
   "name": "python",
   "nbconvert_exporter": "python",
   "pygments_lexer": "ipython3",
   "version": "3.12.10"
  }
 },
 "nbformat": 4,
 "nbformat_minor": 5
}
